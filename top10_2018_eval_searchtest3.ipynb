{
  "cells": [
    {
      "cell_type": "code",
      "execution_count": null,
      "id": "0253cca7",
      "metadata": {
        "id": "0253cca7"
      },
      "outputs": [],
      "source": [
        "import pandas as pd\n",
        "import numpy as np\n",
        "import pickle\n",
        "from tqdm.auto import tqdm\n",
        "import re\n",
        "import time"
      ]
    },
    {
      "cell_type": "code",
      "execution_count": null,
      "id": "1c264518",
      "metadata": {
        "id": "1c264518"
      },
      "outputs": [],
      "source": [
        "# 2022 라이덴 클러스터 포함 논문 (06-22) Pub Text 불러오기\n",
        "with open('F:\\cluster_2022_run\\LEIDEN2022_JYLee\\leiden_cluster_text_info_202230_pickle파일들\\leiden_cluster_text_info_202230.pkl', 'rb') as f:\n",
        "    df_text_full_20_full = pickle.load(f)\n",
        "df_text_full_20_full['aukey_modified'] = df_text_full_20_full['aukey'].str.replace(';', ' ')"
      ]
    },
    {
      "cell_type": "code",
      "execution_count": null,
      "id": "c0bc18a6",
      "metadata": {
        "id": "c0bc18a6",
        "outputId": "09ed932e-cf08-4ac5-a0a0-8eb56eeb2d85"
      },
      "outputs": [
        {
          "data": {
            "text/plain": [
              "Index(['uid', 'cluster_id', 'pubyear2', 'item', 'aukey', 'abstract',\n",
              "       'aukey_modified'],\n",
              "      dtype='object')"
            ]
          },
          "execution_count": 3,
          "metadata": {},
          "output_type": "execute_result"
        }
      ],
      "source": [
        "df_text_full_20_full.columns"
      ]
    },
    {
      "cell_type": "code",
      "execution_count": null,
      "id": "b9376291",
      "metadata": {
        "id": "b9376291"
      },
      "outputs": [],
      "source": [
        "# OR로만 이루어진 단순한 검색식의 경우 사용할 함수 선언\n",
        "def search_and_organize(technology, search_texts, df_text_full_20_full,technology_search_results):\n",
        "    technology_search_results = technology_search_results\n",
        "\n",
        "    # aukey 컬럼에서 검색\n",
        "    results_aukey = []\n",
        "    for text in tqdm(search_texts, desc=f\"search_in_aukey for {technology}\"):\n",
        "        result = df_text_full_20_full[df_text_full_20_full['aukey_modified'].str.contains(text, case=False, regex=True)]\n",
        "        results_aukey.append(result)\n",
        "    concatenated_results = pd.concat(results_aukey).drop_duplicates().reset_index(drop=True)\n",
        "\n",
        "    # abstract 컬럼에서 검색\n",
        "    results_abstract = []\n",
        "    for text in tqdm(search_texts, desc=f\"search_in_abstract for {technology}\"):\n",
        "        result_abs = df_text_full_20_full[df_text_full_20_full['abstract'].str.contains(text, case=False, regex=True)]\n",
        "        results_abstract.append(result_abs)\n",
        "    concatenated_results_abs = pd.concat(results_abstract).drop_duplicates().reset_index(drop=True)\n",
        "\n",
        "    # 검색어를 포함하는 행의 수 계산\n",
        "    shapes = [result.shape[0] for result in results_aukey]\n",
        "    shapes_abs = [result_abs.shape[0] for result_abs in results_abstract]\n",
        "    npubs_contain_searchterms = pd.DataFrame([shapes, shapes_abs]).T\n",
        "    npubs_contain_searchterms.columns = ['aukey_npubs','abstract_npubs']\n",
        "    npubs_contain_searchterms.index = search_texts\n",
        "    npubs_contain_searchterms.loc['total_npubs'] = [concatenated_results.shape[0],concatenated_results_abs.shape[0]]\n",
        "\n",
        "    # 결과를 딕셔너리에 저장\n",
        "    technology_search_results[technology] = {\n",
        "        'concatenated_results': concatenated_results,\n",
        "        'concatenated_results_abs': concatenated_results_abs,\n",
        "        'npubs_contain_searchterms': npubs_contain_searchterms\n",
        "    }\n",
        "\n",
        "    return technology_search_results"
      ]
    },
    {
      "cell_type": "code",
      "execution_count": null,
      "id": "31072e14",
      "metadata": {
        "id": "31072e14"
      },
      "outputs": [],
      "source": []
    },
    {
      "cell_type": "code",
      "execution_count": null,
      "id": "e84ba3b1",
      "metadata": {
        "id": "e84ba3b1"
      },
      "outputs": [],
      "source": [
        "# 최초 딕셔너리 선언\n",
        "technology_search_results = {}"
      ]
    },
    {
      "cell_type": "code",
      "execution_count": null,
      "id": "0b2c1e53",
      "metadata": {
        "id": "0b2c1e53",
        "outputId": "67d480c3-def7-4a87-89a8-5899b70d7de1",
        "colab": {
          "referenced_widgets": [
            "b704709e958c477e933bea3191879a22",
            "bdf6e023b9b541a8be72aa4c2b039395"
          ]
        }
      },
      "outputs": [
        {
          "data": {
            "application/vnd.jupyter.widget-view+json": {
              "model_id": "b704709e958c477e933bea3191879a22",
              "version_major": 2,
              "version_minor": 0
            },
            "text/plain": [
              "search_in_aukey for 6.무선 전력 전송:   0%|          | 0/4 [00:00<?, ?it/s]"
            ]
          },
          "metadata": {},
          "output_type": "display_data"
        },
        {
          "data": {
            "application/vnd.jupyter.widget-view+json": {
              "model_id": "bdf6e023b9b541a8be72aa4c2b039395",
              "version_major": 2,
              "version_minor": 0
            },
            "text/plain": [
              "search_in_abstract for 6.무선 전력 전송:   0%|          | 0/4 [00:00<?, ?it/s]"
            ]
          },
          "metadata": {},
          "output_type": "display_data"
        }
      ],
      "source": [
        "# 단순 OR 검색식부터 실행\n",
        "technology = '6.무선 전력 전송'\n",
        "search_texts = [\"wireless power transfer\",  \"wireless power transmission\", \"wireless energy transmission\", \"Wireless Energy Transfer\"]\n",
        "# OR단순검색식 탐색 함수 실행\n",
        "technology_search_results = search_and_organize(technology, search_texts, df_text_full_20_full, technology_search_results)"
      ]
    },
    {
      "cell_type": "code",
      "execution_count": null,
      "id": "c08fda1f",
      "metadata": {
        "id": "c08fda1f",
        "outputId": "f41ef0e7-dbf5-4cff-f27d-fb25ec94dcbb",
        "colab": {
          "referenced_widgets": [
            "3d714f3ea638441588a54407b38c1687",
            "9122f5f14fce4cebbe9a48478f2ff5f3"
          ]
        }
      },
      "outputs": [
        {
          "data": {
            "application/vnd.jupyter.widget-view+json": {
              "model_id": "3d714f3ea638441588a54407b38c1687",
              "version_major": 2,
              "version_minor": 0
            },
            "text/plain": [
              "search_in_aukey for 8. 면역세포치료:   0%|          | 0/2 [00:00<?, ?it/s]"
            ]
          },
          "metadata": {},
          "output_type": "display_data"
        },
        {
          "data": {
            "application/vnd.jupyter.widget-view+json": {
              "model_id": "9122f5f14fce4cebbe9a48478f2ff5f3",
              "version_major": 2,
              "version_minor": 0
            },
            "text/plain": [
              "search_in_abstract for 8. 면역세포치료:   0%|          | 0/2 [00:00<?, ?it/s]"
            ]
          },
          "metadata": {},
          "output_type": "display_data"
        }
      ],
      "source": [
        "# 기술명 선언\n",
        "technology = '8. 면역세포치료'\n",
        "# 검색식 입력\n",
        "search_texts = [\"Immunotherapy\",\"Immune cell therap.*\"]\n",
        "# OR단순검색식 탐색 함수 실행\n",
        "technology_search_results = search_and_organize(technology, search_texts, df_text_full_20_full, technology_search_results)"
      ]
    },
    {
      "cell_type": "code",
      "execution_count": null,
      "id": "fa38fdec",
      "metadata": {
        "id": "fa38fdec",
        "outputId": "e0890521-fa57-4eaf-af85-ee173f80d703",
        "colab": {
          "referenced_widgets": [
            "ffa8221ed2234a5aa1a2a80437129b19",
            "dfde921e79cd4be1bb8b8545ff55ea40"
          ]
        }
      },
      "outputs": [
        {
          "data": {
            "application/vnd.jupyter.widget-view+json": {
              "model_id": "ffa8221ed2234a5aa1a2a80437129b19",
              "version_major": 2,
              "version_minor": 0
            },
            "text/plain": [
              "search_in_aukey for 10. 상변화 소재 활용 열에너지 저장:   0%|          | 0/2 [00:00<?, ?it/s]"
            ]
          },
          "metadata": {},
          "output_type": "display_data"
        },
        {
          "data": {
            "application/vnd.jupyter.widget-view+json": {
              "model_id": "dfde921e79cd4be1bb8b8545ff55ea40",
              "version_major": 2,
              "version_minor": 0
            },
            "text/plain": [
              "search_in_abstract for 10. 상변화 소재 활용 열에너지 저장:   0%|          | 0/2 [00:00<?, ?it/s]"
            ]
          },
          "metadata": {},
          "output_type": "display_data"
        }
      ],
      "source": [
        "# 기술명 선언\n",
        "technology = '10. 상변화 소재 활용 열에너지 저장'\n",
        "# 검색식 입력\n",
        "search_texts = [\"Phase change material.*\",\"thermal energy storage.*\"]\n",
        "# OR단순검색식 탐색 함수 실행\n",
        "technology_search_results = search_and_organize(technology, search_texts, df_text_full_20_full, technology_search_results)"
      ]
    },
    {
      "cell_type": "code",
      "execution_count": null,
      "id": "9304344c",
      "metadata": {
        "id": "9304344c"
      },
      "outputs": [],
      "source": [
        "## OR 조회 (임시)"
      ]
    },
    {
      "cell_type": "code",
      "execution_count": null,
      "id": "4612d0bb",
      "metadata": {
        "id": "4612d0bb",
        "outputId": "555bf67f-a262-45e2-e851-6e3b3a05937b"
      },
      "outputs": [
        {
          "data": {
            "text/html": [
              "<div>\n",
              "<style scoped>\n",
              "    .dataframe tbody tr th:only-of-type {\n",
              "        vertical-align: middle;\n",
              "    }\n",
              "\n",
              "    .dataframe tbody tr th {\n",
              "        vertical-align: top;\n",
              "    }\n",
              "\n",
              "    .dataframe thead th {\n",
              "        text-align: right;\n",
              "    }\n",
              "</style>\n",
              "<table border=\"1\" class=\"dataframe\">\n",
              "  <thead>\n",
              "    <tr style=\"text-align: right;\">\n",
              "      <th></th>\n",
              "      <th>aukey_npubs</th>\n",
              "      <th>abstract_npubs</th>\n",
              "    </tr>\n",
              "  </thead>\n",
              "  <tbody>\n",
              "    <tr>\n",
              "      <th>wireless power transfer</th>\n",
              "      <td>2221</td>\n",
              "      <td>2396</td>\n",
              "    </tr>\n",
              "    <tr>\n",
              "      <th>wireless power transmission</th>\n",
              "      <td>417</td>\n",
              "      <td>458</td>\n",
              "    </tr>\n",
              "    <tr>\n",
              "      <th>wireless energy transmission</th>\n",
              "      <td>23</td>\n",
              "      <td>56</td>\n",
              "    </tr>\n",
              "    <tr>\n",
              "      <th>Wireless Energy Transfer</th>\n",
              "      <td>188</td>\n",
              "      <td>271</td>\n",
              "    </tr>\n",
              "    <tr>\n",
              "      <th>total_npubs</th>\n",
              "      <td>2826</td>\n",
              "      <td>3130</td>\n",
              "    </tr>\n",
              "  </tbody>\n",
              "</table>\n",
              "</div>"
            ],
            "text/plain": [
              "                              aukey_npubs  abstract_npubs\n",
              "wireless power transfer              2221            2396\n",
              "wireless power transmission           417             458\n",
              "wireless energy transmission           23              56\n",
              "Wireless Energy Transfer              188             271\n",
              "total_npubs                          2826            3130"
            ]
          },
          "execution_count": 32,
          "metadata": {},
          "output_type": "execute_result"
        }
      ],
      "source": [
        "technology_search_results['6.무선 전력 전송']['npubs_contain_searchterms']"
      ]
    },
    {
      "cell_type": "code",
      "execution_count": null,
      "id": "b608f712",
      "metadata": {
        "id": "b608f712"
      },
      "outputs": [],
      "source": []
    },
    {
      "cell_type": "code",
      "execution_count": null,
      "id": "850d1c07",
      "metadata": {
        "id": "850d1c07"
      },
      "outputs": [],
      "source": []
    },
    {
      "cell_type": "code",
      "execution_count": null,
      "id": "fc62f8d8",
      "metadata": {
        "id": "fc62f8d8"
      },
      "outputs": [],
      "source": [
        "# 2단계 조회 그룹"
      ]
    },
    {
      "cell_type": "code",
      "execution_count": null,
      "id": "0b7f5912",
      "metadata": {
        "id": "0b7f5912"
      },
      "outputs": [],
      "source": [
        "# AND가 2개의 OR검색식을 연결한 경우 사용할 함수 선언\n",
        "def search_and_organize_1and(technology, search_texts_1st, search_texts_2nd, df_text_full_20_full,technology_search_results):\n",
        "\n",
        "    # OR단순검색식 탐색 함수 1회 실행\n",
        "    technology_search_results = search_and_organize(technology, search_texts_1st, df_text_full_20_full, technology_search_results)\n",
        "\n",
        "    # 2차 검색식 정의\n",
        "    search_texts_2nd = search_texts_2nd\n",
        "    # 2차 검색 범위 정의\n",
        "    concatenated_results1 = technology_search_results[technology]['concatenated_results']\n",
        "    concatenated_results_abs1 = technology_search_results[technology]['concatenated_results_abs']\n",
        "    npubs_contain_searchterms = technology_search_results[technology]['npubs_contain_searchterms']\n",
        "\n",
        "    # aukey 컬럼에서 검색\n",
        "    results_aukey = []\n",
        "    for text in tqdm(search_texts_2nd, desc=f\"search_in_aukey for {technology}\"):\n",
        "        result = concatenated_results1[concatenated_results1['aukey_modified'].str.contains(text, case=False, regex=True)]\n",
        "        results_aukey.append(result)\n",
        "    concatenated_results = pd.concat(results_aukey).drop_duplicates().reset_index(drop=True)\n",
        "\n",
        "    # abstract 컬럼에서 검색\n",
        "    results_abstract = []\n",
        "    for text in tqdm(search_texts_2nd, desc=f\"search_in_abstract for {technology}\"):\n",
        "        result_abs = concatenated_results_abs1[concatenated_results_abs1['abstract'].str.contains(text, case=False, regex=True)]\n",
        "        results_abstract.append(result_abs)\n",
        "    concatenated_results_abs = pd.concat(results_abstract).drop_duplicates().reset_index(drop=True)\n",
        "\n",
        "    # 검색어를 포함하는 행의 수 계산\n",
        "    shapes = [result.shape[0] for result in results_aukey]\n",
        "    shapes_abs = [result_abs.shape[0] for result_abs in results_abstract]\n",
        "    npubs_contain_searchterms1 = pd.DataFrame([shapes, shapes_abs]).T\n",
        "    npubs_contain_searchterms1.columns = ['aukey_npubs','abstract_npubs']\n",
        "    npubs_contain_searchterms1.index = search_texts_2nd\n",
        "    npubs_contain_searchterms1.loc['total_npubs'] = [concatenated_results.shape[0],concatenated_results_abs.shape[0]]\n",
        "\n",
        "    # 결과를 딕셔너리에 저장\n",
        "    technology_search_results[technology] = {\n",
        "        'concatenated_results': concatenated_results,\n",
        "        'concatenated_results_abs': concatenated_results_abs,\n",
        "        'npubs_contain_searchterms': pd.concat([npubs_contain_searchterms, npubs_contain_searchterms1])\n",
        "    }\n",
        "\n",
        "    return technology_search_results"
      ]
    },
    {
      "cell_type": "code",
      "execution_count": null,
      "id": "30dee419",
      "metadata": {
        "id": "30dee419"
      },
      "outputs": [],
      "source": [
        "## 수동, AND 존재 검색식. \"(Nanofluid* or “Nano-Fluid*” “Nano Fluid*”) and (Energy or thermal* or Heat*) \"\n",
        "# 기술명 선언\n",
        "technology = '9. 나노유체 이용 에너지 효율화'\n",
        "# 1차 검색식 입력\n",
        "search_texts_1st = [\"Nano.*fluid.*\"]\n",
        "# 2차 검색식 입력\n",
        "search_texts_2nd = [\"energy\", \"thermal.*\", \"heat.*\"]"
      ]
    },
    {
      "cell_type": "code",
      "execution_count": null,
      "id": "a4c79194",
      "metadata": {
        "id": "a4c79194",
        "outputId": "07ecc201-010e-4b30-82f0-e2294eda60fe",
        "colab": {
          "referenced_widgets": [
            "3ce57e75519c443eb03955f507a6d57f",
            "b6cfe49d84ce4ca1822e093e56081f7b",
            "a532b583d2984147aa1ff9fdc4dd01a8",
            "2620593a35a7486f86d53eaa2001c467"
          ]
        }
      },
      "outputs": [
        {
          "data": {
            "application/vnd.jupyter.widget-view+json": {
              "model_id": "3ce57e75519c443eb03955f507a6d57f",
              "version_major": 2,
              "version_minor": 0
            },
            "text/plain": [
              "search_in_aukey for 9. 나노유체 이용 에너지 효율화:   0%|          | 0/1 [00:00<?, ?it/s]"
            ]
          },
          "metadata": {},
          "output_type": "display_data"
        },
        {
          "data": {
            "application/vnd.jupyter.widget-view+json": {
              "model_id": "b6cfe49d84ce4ca1822e093e56081f7b",
              "version_major": 2,
              "version_minor": 0
            },
            "text/plain": [
              "search_in_abstract for 9. 나노유체 이용 에너지 효율화:   0%|          | 0/1 [00:00<?, ?it/s]"
            ]
          },
          "metadata": {},
          "output_type": "display_data"
        },
        {
          "data": {
            "application/vnd.jupyter.widget-view+json": {
              "model_id": "a532b583d2984147aa1ff9fdc4dd01a8",
              "version_major": 2,
              "version_minor": 0
            },
            "text/plain": [
              "search_in_aukey for 9. 나노유체 이용 에너지 효율화:   0%|          | 0/3 [00:00<?, ?it/s]"
            ]
          },
          "metadata": {},
          "output_type": "display_data"
        },
        {
          "data": {
            "application/vnd.jupyter.widget-view+json": {
              "model_id": "2620593a35a7486f86d53eaa2001c467",
              "version_major": 2,
              "version_minor": 0
            },
            "text/plain": [
              "search_in_abstract for 9. 나노유체 이용 에너지 효율화:   0%|          | 0/3 [00:00<?, ?it/s]"
            ]
          },
          "metadata": {},
          "output_type": "display_data"
        }
      ],
      "source": [
        "technology_search_results = search_and_organize_1and(technology, search_texts_1st, search_texts_2nd, df_text_full_20_full,technology_search_results)\n"
      ]
    },
    {
      "cell_type": "code",
      "execution_count": null,
      "id": "a8824657",
      "metadata": {
        "id": "a8824657",
        "outputId": "4f612d1f-bd91-4094-a60f-cb05dddae467"
      },
      "outputs": [
        {
          "data": {
            "text/html": [
              "<div>\n",
              "<style scoped>\n",
              "    .dataframe tbody tr th:only-of-type {\n",
              "        vertical-align: middle;\n",
              "    }\n",
              "\n",
              "    .dataframe tbody tr th {\n",
              "        vertical-align: top;\n",
              "    }\n",
              "\n",
              "    .dataframe thead th {\n",
              "        text-align: right;\n",
              "    }\n",
              "</style>\n",
              "<table border=\"1\" class=\"dataframe\">\n",
              "  <thead>\n",
              "    <tr style=\"text-align: right;\">\n",
              "      <th></th>\n",
              "      <th>aukey_npubs</th>\n",
              "      <th>abstract_npubs</th>\n",
              "    </tr>\n",
              "  </thead>\n",
              "  <tbody>\n",
              "    <tr>\n",
              "      <th>Nano.*fluid.*</th>\n",
              "      <td>13650</td>\n",
              "      <td>42193</td>\n",
              "    </tr>\n",
              "    <tr>\n",
              "      <th>total_npubs</th>\n",
              "      <td>13650</td>\n",
              "      <td>42193</td>\n",
              "    </tr>\n",
              "    <tr>\n",
              "      <th>energy</th>\n",
              "      <td>588</td>\n",
              "      <td>5673</td>\n",
              "    </tr>\n",
              "    <tr>\n",
              "      <th>thermal.*</th>\n",
              "      <td>2705</td>\n",
              "      <td>10888</td>\n",
              "    </tr>\n",
              "    <tr>\n",
              "      <th>heat.*</th>\n",
              "      <td>3760</td>\n",
              "      <td>11868</td>\n",
              "    </tr>\n",
              "    <tr>\n",
              "      <th>total_npubs</th>\n",
              "      <td>5913</td>\n",
              "      <td>18807</td>\n",
              "    </tr>\n",
              "  </tbody>\n",
              "</table>\n",
              "</div>"
            ],
            "text/plain": [
              "               aukey_npubs  abstract_npubs\n",
              "Nano.*fluid.*        13650           42193\n",
              "total_npubs          13650           42193\n",
              "energy                 588            5673\n",
              "thermal.*             2705           10888\n",
              "heat.*                3760           11868\n",
              "total_npubs           5913           18807"
            ]
          },
          "execution_count": 15,
          "metadata": {},
          "output_type": "execute_result"
        }
      ],
      "source": [
        "technology_search_results['9. 나노유체 이용 에너지 효율화']['npubs_contain_searchterms']"
      ]
    },
    {
      "cell_type": "code",
      "execution_count": null,
      "id": "9e8fa40f",
      "metadata": {
        "id": "9e8fa40f"
      },
      "outputs": [],
      "source": [
        "# 기술명 선언\n",
        "technology = '4. 암 진단/예측 바이오마커'\n",
        "# 1차 검색식 입력\n",
        "search_texts_1st = [\"bio.*marker.*\"]\n",
        "# 2차 검색식 입력\n",
        "search_texts_2nd = [\"cancer\", \"tumor.*\", \"oncology\"]\n"
      ]
    },
    {
      "cell_type": "code",
      "execution_count": null,
      "id": "86f1d3a7",
      "metadata": {
        "id": "86f1d3a7",
        "outputId": "f03620e6-b975-4776-f439-8818512f1ae1",
        "colab": {
          "referenced_widgets": [
            "1c705515a5c24b71b449ad6269ff57be",
            "93782e5cfbce4745a0db10b29d1e4ce7",
            "e4c7301ecaf243a38e6a79b5372b087e",
            "dfd84048337c4212a18b6e5d52bb9fa5"
          ]
        }
      },
      "outputs": [
        {
          "data": {
            "application/vnd.jupyter.widget-view+json": {
              "model_id": "1c705515a5c24b71b449ad6269ff57be",
              "version_major": 2,
              "version_minor": 0
            },
            "text/plain": [
              "search_in_aukey for 4. 암 진단/예측 바이오마커:   0%|          | 0/1 [00:00<?, ?it/s]"
            ]
          },
          "metadata": {},
          "output_type": "display_data"
        },
        {
          "data": {
            "application/vnd.jupyter.widget-view+json": {
              "model_id": "93782e5cfbce4745a0db10b29d1e4ce7",
              "version_major": 2,
              "version_minor": 0
            },
            "text/plain": [
              "search_in_abstract for 4. 암 진단/예측 바이오마커:   0%|          | 0/1 [00:00<?, ?it/s]"
            ]
          },
          "metadata": {},
          "output_type": "display_data"
        },
        {
          "data": {
            "application/vnd.jupyter.widget-view+json": {
              "model_id": "e4c7301ecaf243a38e6a79b5372b087e",
              "version_major": 2,
              "version_minor": 0
            },
            "text/plain": [
              "search_in_aukey for 4. 암 진단/예측 바이오마커:   0%|          | 0/3 [00:00<?, ?it/s]"
            ]
          },
          "metadata": {},
          "output_type": "display_data"
        },
        {
          "data": {
            "application/vnd.jupyter.widget-view+json": {
              "model_id": "dfd84048337c4212a18b6e5d52bb9fa5",
              "version_major": 2,
              "version_minor": 0
            },
            "text/plain": [
              "search_in_abstract for 4. 암 진단/예측 바이오마커:   0%|          | 0/3 [00:00<?, ?it/s]"
            ]
          },
          "metadata": {},
          "output_type": "display_data"
        }
      ],
      "source": [
        "technology_search_results = search_and_organize_1and(technology, search_texts_1st, search_texts_2nd, df_text_full_20_full,technology_search_results)\n"
      ]
    },
    {
      "cell_type": "code",
      "execution_count": null,
      "id": "feb18ab4",
      "metadata": {
        "id": "feb18ab4",
        "outputId": "7200bad4-327a-4bad-ca99-f2a5af20721f"
      },
      "outputs": [
        {
          "data": {
            "text/html": [
              "<div>\n",
              "<style scoped>\n",
              "    .dataframe tbody tr th:only-of-type {\n",
              "        vertical-align: middle;\n",
              "    }\n",
              "\n",
              "    .dataframe tbody tr th {\n",
              "        vertical-align: top;\n",
              "    }\n",
              "\n",
              "    .dataframe thead th {\n",
              "        text-align: right;\n",
              "    }\n",
              "</style>\n",
              "<table border=\"1\" class=\"dataframe\">\n",
              "  <thead>\n",
              "    <tr style=\"text-align: right;\">\n",
              "      <th></th>\n",
              "      <th>aukey_npubs</th>\n",
              "      <th>abstract_npubs</th>\n",
              "    </tr>\n",
              "  </thead>\n",
              "  <tbody>\n",
              "    <tr>\n",
              "      <th>bio.*marker.*</th>\n",
              "      <td>72107</td>\n",
              "      <td>310756</td>\n",
              "    </tr>\n",
              "    <tr>\n",
              "      <th>total_npubs</th>\n",
              "      <td>72107</td>\n",
              "      <td>310756</td>\n",
              "    </tr>\n",
              "    <tr>\n",
              "      <th>cancer</th>\n",
              "      <td>13947</td>\n",
              "      <td>79674</td>\n",
              "    </tr>\n",
              "    <tr>\n",
              "      <th>tumor.*</th>\n",
              "      <td>2867</td>\n",
              "      <td>57858</td>\n",
              "    </tr>\n",
              "    <tr>\n",
              "      <th>oncology</th>\n",
              "      <td>300</td>\n",
              "      <td>3082</td>\n",
              "    </tr>\n",
              "    <tr>\n",
              "      <th>total_npubs</th>\n",
              "      <td>15742</td>\n",
              "      <td>98204</td>\n",
              "    </tr>\n",
              "  </tbody>\n",
              "</table>\n",
              "</div>"
            ],
            "text/plain": [
              "               aukey_npubs  abstract_npubs\n",
              "bio.*marker.*        72107          310756\n",
              "total_npubs          72107          310756\n",
              "cancer               13947           79674\n",
              "tumor.*               2867           57858\n",
              "oncology               300            3082\n",
              "total_npubs          15742           98204"
            ]
          },
          "execution_count": 18,
          "metadata": {},
          "output_type": "execute_result"
        }
      ],
      "source": [
        "technology_search_results['4. 암 진단/예측 바이오마커']['npubs_contain_searchterms']"
      ]
    },
    {
      "cell_type": "code",
      "execution_count": null,
      "id": "59ce4fb0",
      "metadata": {
        "id": "59ce4fb0"
      },
      "outputs": [],
      "source": [
        "# 기술명 선언\n",
        "technology = '3. 휴먼 마이크로바이옴'\n",
        "# 1차 검색식 입력\n",
        "search_texts_1st = [\"microbiome\", \"microbiota\", \"metagenomics\", \"metagenome\", \"second Genome\"]\n",
        "# 2차 검색식 입력\n",
        "search_texts_2nd = [\"human\", \"Gut\", \"second Genome\"]"
      ]
    },
    {
      "cell_type": "code",
      "execution_count": null,
      "id": "95b9d60d",
      "metadata": {
        "id": "95b9d60d",
        "outputId": "b8d01bd1-ebe4-4dce-c4ba-fc092495da69",
        "colab": {
          "referenced_widgets": [
            "28c71e6b934d492f95c7e2becfeb73fd",
            "9ec9f0fc966546cb89c05ed93a8c7f29",
            "cec9e5170afd481dad7c128c5b14faf2",
            "994916ffaaaa4bffac098ee9fdcfcd93"
          ]
        }
      },
      "outputs": [
        {
          "data": {
            "application/vnd.jupyter.widget-view+json": {
              "model_id": "28c71e6b934d492f95c7e2becfeb73fd",
              "version_major": 2,
              "version_minor": 0
            },
            "text/plain": [
              "search_in_aukey for 3. 휴먼 마이크로바이옴:   0%|          | 0/5 [00:00<?, ?it/s]"
            ]
          },
          "metadata": {},
          "output_type": "display_data"
        },
        {
          "data": {
            "application/vnd.jupyter.widget-view+json": {
              "model_id": "9ec9f0fc966546cb89c05ed93a8c7f29",
              "version_major": 2,
              "version_minor": 0
            },
            "text/plain": [
              "search_in_abstract for 3. 휴먼 마이크로바이옴:   0%|          | 0/5 [00:00<?, ?it/s]"
            ]
          },
          "metadata": {},
          "output_type": "display_data"
        },
        {
          "data": {
            "application/vnd.jupyter.widget-view+json": {
              "model_id": "cec9e5170afd481dad7c128c5b14faf2",
              "version_major": 2,
              "version_minor": 0
            },
            "text/plain": [
              "search_in_aukey for 3. 휴먼 마이크로바이옴:   0%|          | 0/3 [00:00<?, ?it/s]"
            ]
          },
          "metadata": {},
          "output_type": "display_data"
        },
        {
          "data": {
            "application/vnd.jupyter.widget-view+json": {
              "model_id": "994916ffaaaa4bffac098ee9fdcfcd93",
              "version_major": 2,
              "version_minor": 0
            },
            "text/plain": [
              "search_in_abstract for 3. 휴먼 마이크로바이옴:   0%|          | 0/3 [00:00<?, ?it/s]"
            ]
          },
          "metadata": {},
          "output_type": "display_data"
        }
      ],
      "source": [
        "technology_search_results = search_and_organize_1and(technology, search_texts_1st, search_texts_2nd, df_text_full_20_full,technology_search_results)\n"
      ]
    },
    {
      "cell_type": "code",
      "execution_count": null,
      "id": "b80f735d",
      "metadata": {
        "id": "b80f735d",
        "outputId": "cd94c260-2543-4eb7-c0d3-e5b17927e649"
      },
      "outputs": [
        {
          "data": {
            "text/html": [
              "<div>\n",
              "<style scoped>\n",
              "    .dataframe tbody tr th:only-of-type {\n",
              "        vertical-align: middle;\n",
              "    }\n",
              "\n",
              "    .dataframe tbody tr th {\n",
              "        vertical-align: top;\n",
              "    }\n",
              "\n",
              "    .dataframe thead th {\n",
              "        text-align: right;\n",
              "    }\n",
              "</style>\n",
              "<table border=\"1\" class=\"dataframe\">\n",
              "  <thead>\n",
              "    <tr style=\"text-align: right;\">\n",
              "      <th></th>\n",
              "      <th>aukey_npubs</th>\n",
              "      <th>abstract_npubs</th>\n",
              "    </tr>\n",
              "  </thead>\n",
              "  <tbody>\n",
              "    <tr>\n",
              "      <th>microbiome</th>\n",
              "      <td>11463</td>\n",
              "      <td>22604</td>\n",
              "    </tr>\n",
              "    <tr>\n",
              "      <th>microbiota</th>\n",
              "      <td>18458</td>\n",
              "      <td>43034</td>\n",
              "    </tr>\n",
              "    <tr>\n",
              "      <th>metagenomics</th>\n",
              "      <td>3969</td>\n",
              "      <td>4122</td>\n",
              "    </tr>\n",
              "    <tr>\n",
              "      <th>metagenome</th>\n",
              "      <td>1363</td>\n",
              "      <td>4181</td>\n",
              "    </tr>\n",
              "    <tr>\n",
              "      <th>second Genome</th>\n",
              "      <td>0</td>\n",
              "      <td>74</td>\n",
              "    </tr>\n",
              "    <tr>\n",
              "      <th>total_npubs</th>\n",
              "      <td>32543</td>\n",
              "      <td>63180</td>\n",
              "    </tr>\n",
              "    <tr>\n",
              "      <th>human</th>\n",
              "      <td>1337</td>\n",
              "      <td>17175</td>\n",
              "    </tr>\n",
              "    <tr>\n",
              "      <th>Gut</th>\n",
              "      <td>9613</td>\n",
              "      <td>27238</td>\n",
              "    </tr>\n",
              "    <tr>\n",
              "      <th>second Genome</th>\n",
              "      <td>0</td>\n",
              "      <td>74</td>\n",
              "    </tr>\n",
              "    <tr>\n",
              "      <th>total_npubs</th>\n",
              "      <td>10506</td>\n",
              "      <td>35681</td>\n",
              "    </tr>\n",
              "  </tbody>\n",
              "</table>\n",
              "</div>"
            ],
            "text/plain": [
              "               aukey_npubs  abstract_npubs\n",
              "microbiome           11463           22604\n",
              "microbiota           18458           43034\n",
              "metagenomics          3969            4122\n",
              "metagenome            1363            4181\n",
              "second Genome            0              74\n",
              "total_npubs          32543           63180\n",
              "human                 1337           17175\n",
              "Gut                   9613           27238\n",
              "second Genome            0              74\n",
              "total_npubs          10506           35681"
            ]
          },
          "execution_count": 21,
          "metadata": {},
          "output_type": "execute_result"
        }
      ],
      "source": [
        "technology_search_results['3. 휴먼 마이크로바이옴']['npubs_contain_searchterms']"
      ]
    },
    {
      "cell_type": "code",
      "execution_count": null,
      "id": "c62b74ff",
      "metadata": {
        "id": "c62b74ff"
      },
      "outputs": [],
      "source": [
        "# 기술명 선언\n",
        "technology = '2. 신축성 전자소자'\n",
        "# 1차 검색식 입력\n",
        "#(stretchable or  wearable or flexible or “self-healing” or “self healing” or selfhealing)\n",
        "search_texts_1st = ['stretchable','wearable','flexible','self.?healing']\n",
        "# 2차 검색식 입력\n",
        "# (electronic* or material* or substrate* or device* or electrode* or interconnector)\n",
        "search_texts_2nd = ['electronic.*','material.*','substrate.*','device.*','electrode.*','interconnector']"
      ]
    },
    {
      "cell_type": "code",
      "execution_count": null,
      "id": "4a137d4f",
      "metadata": {
        "id": "4a137d4f",
        "outputId": "fb68d313-f0e2-4e5c-ff1f-328a9572dd14",
        "colab": {
          "referenced_widgets": [
            "25b3b2b83b2d453f8ebd5613e06b00be",
            "1fe5c54ec363480485965d056edcaad7",
            "1fe33d2bf03840c690f7adb18b17fc92",
            "9d3dc6e6569e4b65bc7acd76217391e5"
          ]
        }
      },
      "outputs": [
        {
          "data": {
            "application/vnd.jupyter.widget-view+json": {
              "model_id": "25b3b2b83b2d453f8ebd5613e06b00be",
              "version_major": 2,
              "version_minor": 0
            },
            "text/plain": [
              "search_in_aukey for 2. 신축성 전자소자:   0%|          | 0/4 [00:00<?, ?it/s]"
            ]
          },
          "metadata": {},
          "output_type": "display_data"
        },
        {
          "data": {
            "application/vnd.jupyter.widget-view+json": {
              "model_id": "1fe5c54ec363480485965d056edcaad7",
              "version_major": 2,
              "version_minor": 0
            },
            "text/plain": [
              "search_in_abstract for 2. 신축성 전자소자:   0%|          | 0/4 [00:00<?, ?it/s]"
            ]
          },
          "metadata": {},
          "output_type": "display_data"
        },
        {
          "data": {
            "application/vnd.jupyter.widget-view+json": {
              "model_id": "1fe33d2bf03840c690f7adb18b17fc92",
              "version_major": 2,
              "version_minor": 0
            },
            "text/plain": [
              "search_in_aukey for 2. 신축성 전자소자:   0%|          | 0/6 [00:00<?, ?it/s]"
            ]
          },
          "metadata": {},
          "output_type": "display_data"
        },
        {
          "data": {
            "application/vnd.jupyter.widget-view+json": {
              "model_id": "9d3dc6e6569e4b65bc7acd76217391e5",
              "version_major": 2,
              "version_minor": 0
            },
            "text/plain": [
              "search_in_abstract for 2. 신축성 전자소자:   0%|          | 0/6 [00:00<?, ?it/s]"
            ]
          },
          "metadata": {},
          "output_type": "display_data"
        }
      ],
      "source": [
        "technology_search_results = search_and_organize_1and(technology, search_texts_1st, search_texts_2nd, df_text_full_20_full,technology_search_results)\n"
      ]
    },
    {
      "cell_type": "code",
      "execution_count": null,
      "id": "a3d64d23",
      "metadata": {
        "id": "a3d64d23",
        "outputId": "26f040d9-e4be-4bf5-a542-14ff9920f718"
      },
      "outputs": [
        {
          "data": {
            "text/html": [
              "<div>\n",
              "<style scoped>\n",
              "    .dataframe tbody tr th:only-of-type {\n",
              "        vertical-align: middle;\n",
              "    }\n",
              "\n",
              "    .dataframe tbody tr th {\n",
              "        vertical-align: top;\n",
              "    }\n",
              "\n",
              "    .dataframe thead th {\n",
              "        text-align: right;\n",
              "    }\n",
              "</style>\n",
              "<table border=\"1\" class=\"dataframe\">\n",
              "  <thead>\n",
              "    <tr style=\"text-align: right;\">\n",
              "      <th></th>\n",
              "      <th>aukey_npubs</th>\n",
              "      <th>abstract_npubs</th>\n",
              "    </tr>\n",
              "  </thead>\n",
              "  <tbody>\n",
              "    <tr>\n",
              "      <th>stretchable</th>\n",
              "      <td>1818</td>\n",
              "      <td>5404</td>\n",
              "    </tr>\n",
              "    <tr>\n",
              "      <th>wearable</th>\n",
              "      <td>7643</td>\n",
              "      <td>20369</td>\n",
              "    </tr>\n",
              "    <tr>\n",
              "      <th>flexible</th>\n",
              "      <td>24990</td>\n",
              "      <td>190066</td>\n",
              "    </tr>\n",
              "    <tr>\n",
              "      <th>self.?healing</th>\n",
              "      <td>4256</td>\n",
              "      <td>9029</td>\n",
              "    </tr>\n",
              "    <tr>\n",
              "      <th>total_npubs</th>\n",
              "      <td>37537</td>\n",
              "      <td>215260</td>\n",
              "    </tr>\n",
              "    <tr>\n",
              "      <th>electronic.*</th>\n",
              "      <td>4084</td>\n",
              "      <td>21956</td>\n",
              "    </tr>\n",
              "    <tr>\n",
              "      <th>material.*</th>\n",
              "      <td>1722</td>\n",
              "      <td>36965</td>\n",
              "    </tr>\n",
              "    <tr>\n",
              "      <th>substrate.*</th>\n",
              "      <td>1419</td>\n",
              "      <td>20797</td>\n",
              "    </tr>\n",
              "    <tr>\n",
              "      <th>device.*</th>\n",
              "      <td>3029</td>\n",
              "      <td>36331</td>\n",
              "    </tr>\n",
              "    <tr>\n",
              "      <th>electrode.*</th>\n",
              "      <td>1875</td>\n",
              "      <td>14999</td>\n",
              "    </tr>\n",
              "    <tr>\n",
              "      <th>interconnector</th>\n",
              "      <td>5</td>\n",
              "      <td>45</td>\n",
              "    </tr>\n",
              "    <tr>\n",
              "      <th>total_npubs</th>\n",
              "      <td>10309</td>\n",
              "      <td>79538</td>\n",
              "    </tr>\n",
              "  </tbody>\n",
              "</table>\n",
              "</div>"
            ],
            "text/plain": [
              "                aukey_npubs  abstract_npubs\n",
              "stretchable            1818            5404\n",
              "wearable               7643           20369\n",
              "flexible              24990          190066\n",
              "self.?healing          4256            9029\n",
              "total_npubs           37537          215260\n",
              "electronic.*           4084           21956\n",
              "material.*             1722           36965\n",
              "substrate.*            1419           20797\n",
              "device.*               3029           36331\n",
              "electrode.*            1875           14999\n",
              "interconnector            5              45\n",
              "total_npubs           10309           79538"
            ]
          },
          "execution_count": 25,
          "metadata": {},
          "output_type": "execute_result"
        }
      ],
      "source": [
        "technology_search_results['2. 신축성 전자소자']['npubs_contain_searchterms']"
      ]
    },
    {
      "cell_type": "code",
      "execution_count": null,
      "id": "f46cb029",
      "metadata": {
        "id": "f46cb029"
      },
      "outputs": [],
      "source": []
    },
    {
      "cell_type": "code",
      "execution_count": null,
      "id": "991b1559",
      "metadata": {
        "id": "991b1559"
      },
      "outputs": [],
      "source": [
        "## 다시 OR검색만"
      ]
    },
    {
      "cell_type": "code",
      "execution_count": null,
      "id": "79e67f49",
      "metadata": {
        "id": "79e67f49"
      },
      "outputs": [],
      "source": [
        "# 기술명 선언\n",
        "technology = '5. 유전자 편집'\n",
        "# 1차 검색식 입력\n",
        "search_texts = [\"genome editing\", \"Gene Editing\", \"ZFN\", \"zinc finger nuclease\"\n",
        "                    , \"TALEN\", \"Transcriptor Activator.*Like Effector Nuclease \", \"Transcription Activator.*Like Effector Nuclease\"\n",
        "                    , \"CRISPR\", \"CRISPR.*Cas9\", \"Clustered Regularly Interspaced Short Palindromic Repeat.*\"]\n"
      ]
    },
    {
      "cell_type": "code",
      "execution_count": null,
      "id": "2d86edd4",
      "metadata": {
        "id": "2d86edd4",
        "outputId": "4bf3aacb-c826-48ef-bf60-ef7a166f611e",
        "colab": {
          "referenced_widgets": [
            "024404f364654af6aed638a94882f67a",
            "73461c1a87814e5483ec44941691a446"
          ]
        }
      },
      "outputs": [
        {
          "data": {
            "application/vnd.jupyter.widget-view+json": {
              "model_id": "024404f364654af6aed638a94882f67a",
              "version_major": 2,
              "version_minor": 0
            },
            "text/plain": [
              "search_in_aukey for 5. 유전자 편집:   0%|          | 0/10 [00:00<?, ?it/s]"
            ]
          },
          "metadata": {},
          "output_type": "display_data"
        },
        {
          "data": {
            "application/vnd.jupyter.widget-view+json": {
              "model_id": "73461c1a87814e5483ec44941691a446",
              "version_major": 2,
              "version_minor": 0
            },
            "text/plain": [
              "search_in_abstract for 5. 유전자 편집:   0%|          | 0/10 [00:00<?, ?it/s]"
            ]
          },
          "metadata": {},
          "output_type": "display_data"
        }
      ],
      "source": [
        "# OR단순검색식 탐색 함수 실행\n",
        "technology_search_results = search_and_organize(technology, search_texts, df_text_full_20_full, technology_search_results)"
      ]
    },
    {
      "cell_type": "code",
      "execution_count": null,
      "id": "137506c3",
      "metadata": {
        "id": "137506c3",
        "outputId": "8965c19e-d84b-458f-8755-d17c050ed507"
      },
      "outputs": [
        {
          "data": {
            "text/html": [
              "<div>\n",
              "<style scoped>\n",
              "    .dataframe tbody tr th:only-of-type {\n",
              "        vertical-align: middle;\n",
              "    }\n",
              "\n",
              "    .dataframe tbody tr th {\n",
              "        vertical-align: top;\n",
              "    }\n",
              "\n",
              "    .dataframe thead th {\n",
              "        text-align: right;\n",
              "    }\n",
              "</style>\n",
              "<table border=\"1\" class=\"dataframe\">\n",
              "  <thead>\n",
              "    <tr style=\"text-align: right;\">\n",
              "      <th></th>\n",
              "      <th>aukey_npubs</th>\n",
              "      <th>abstract_npubs</th>\n",
              "    </tr>\n",
              "  </thead>\n",
              "  <tbody>\n",
              "    <tr>\n",
              "      <th>genome editing</th>\n",
              "      <td>1971</td>\n",
              "      <td>5729</td>\n",
              "    </tr>\n",
              "    <tr>\n",
              "      <th>Gene Editing</th>\n",
              "      <td>1051</td>\n",
              "      <td>3143</td>\n",
              "    </tr>\n",
              "    <tr>\n",
              "      <th>ZFN</th>\n",
              "      <td>177</td>\n",
              "      <td>822</td>\n",
              "    </tr>\n",
              "    <tr>\n",
              "      <th>zinc finger nuclease</th>\n",
              "      <td>189</td>\n",
              "      <td>601</td>\n",
              "    </tr>\n",
              "    <tr>\n",
              "      <th>TALEN</th>\n",
              "      <td>2663</td>\n",
              "      <td>11325</td>\n",
              "    </tr>\n",
              "    <tr>\n",
              "      <th>Transcriptor Activator.*Like Effector Nuclease</th>\n",
              "      <td>0</td>\n",
              "      <td>0</td>\n",
              "    </tr>\n",
              "    <tr>\n",
              "      <th>Transcription Activator.*Like Effector Nuclease</th>\n",
              "      <td>99</td>\n",
              "      <td>822</td>\n",
              "    </tr>\n",
              "    <tr>\n",
              "      <th>CRISPR</th>\n",
              "      <td>6439</td>\n",
              "      <td>16923</td>\n",
              "    </tr>\n",
              "    <tr>\n",
              "      <th>CRISPR.*Cas9</th>\n",
              "      <td>3822</td>\n",
              "      <td>11856</td>\n",
              "    </tr>\n",
              "    <tr>\n",
              "      <th>Clustered Regularly Interspaced Short Palindromic Repeat.*</th>\n",
              "      <td>163</td>\n",
              "      <td>3017</td>\n",
              "    </tr>\n",
              "    <tr>\n",
              "      <th>total_npubs</th>\n",
              "      <td>10326</td>\n",
              "      <td>31400</td>\n",
              "    </tr>\n",
              "  </tbody>\n",
              "</table>\n",
              "</div>"
            ],
            "text/plain": [
              "                                                    aukey_npubs  \\\n",
              "genome editing                                             1971   \n",
              "Gene Editing                                               1051   \n",
              "ZFN                                                         177   \n",
              "zinc finger nuclease                                        189   \n",
              "TALEN                                                      2663   \n",
              "Transcriptor Activator.*Like Effector Nuclease                0   \n",
              "Transcription Activator.*Like Effector Nuclease              99   \n",
              "CRISPR                                                     6439   \n",
              "CRISPR.*Cas9                                               3822   \n",
              "Clustered Regularly Interspaced Short Palindrom...          163   \n",
              "total_npubs                                               10326   \n",
              "\n",
              "                                                    abstract_npubs  \n",
              "genome editing                                                5729  \n",
              "Gene Editing                                                  3143  \n",
              "ZFN                                                            822  \n",
              "zinc finger nuclease                                           601  \n",
              "TALEN                                                        11325  \n",
              "Transcriptor Activator.*Like Effector Nuclease                   0  \n",
              "Transcription Activator.*Like Effector Nuclease                822  \n",
              "CRISPR                                                       16923  \n",
              "CRISPR.*Cas9                                                 11856  \n",
              "Clustered Regularly Interspaced Short Palindrom...            3017  \n",
              "total_npubs                                                  31400  "
            ]
          },
          "execution_count": 29,
          "metadata": {},
          "output_type": "execute_result"
        }
      ],
      "source": [
        "technology_search_results['5. 유전자 편집']['npubs_contain_searchterms']"
      ]
    },
    {
      "cell_type": "code",
      "execution_count": null,
      "id": "f11316bc",
      "metadata": {
        "id": "f11316bc"
      },
      "outputs": [],
      "source": [
        "# 기술명 선언\n",
        "technology = '7. 초대용량 데이터 대응 광통신 기술'\n",
        "# 1차 검색식 입력\n",
        "search_texts = [\"Multi.*core fiber\", \"multi.*mode fiber\", \"Few.*Mode Fiber\", \"Spacial Multiplexing\", \"Spatial Division Multiplexing\", \"Space Division Multiplexing\", \"PAM-4\", \"pulse.*amplitude modulation\", \"High.*Speed Optical Communications\", \"High.*Speed Optical Transmission\", \"Frequency Division Multiplexing\"\n",
        "                , \"Time Division Multiplexing\", \"Code Division Multiplexing\", \"Wavelength Division Multiplexing\"]"
      ]
    },
    {
      "cell_type": "code",
      "execution_count": null,
      "id": "c5160d6e",
      "metadata": {
        "id": "c5160d6e",
        "outputId": "3c16a287-42ad-4f99-b339-d1d62c879d6f",
        "colab": {
          "referenced_widgets": [
            "860b750bc5334cfc8af5bcff4d40b6dd",
            "6659da71efd64feabcc1ace7214e7f49"
          ]
        }
      },
      "outputs": [
        {
          "data": {
            "application/vnd.jupyter.widget-view+json": {
              "model_id": "860b750bc5334cfc8af5bcff4d40b6dd",
              "version_major": 2,
              "version_minor": 0
            },
            "text/plain": [
              "search_in_aukey for 7. 초대용량 데이터 대응 광통신 기술:   0%|          | 0/14 [00:00<?, ?it/s]"
            ]
          },
          "metadata": {},
          "output_type": "display_data"
        },
        {
          "data": {
            "application/vnd.jupyter.widget-view+json": {
              "model_id": "6659da71efd64feabcc1ace7214e7f49",
              "version_major": 2,
              "version_minor": 0
            },
            "text/plain": [
              "search_in_abstract for 7. 초대용량 데이터 대응 광통신 기술:   0%|          | 0/14 [00:00<?, ?it/s]"
            ]
          },
          "metadata": {},
          "output_type": "display_data"
        }
      ],
      "source": [
        "# OR단순검색식 탐색 함수 실행\n",
        "technology_search_results = search_and_organize(technology, search_texts, df_text_full_20_full, technology_search_results)"
      ]
    },
    {
      "cell_type": "code",
      "execution_count": null,
      "id": "d5432b10",
      "metadata": {
        "id": "d5432b10",
        "outputId": "2c55f97b-877d-4b5d-a9a3-7ad91c1386d8"
      },
      "outputs": [
        {
          "data": {
            "text/html": [
              "<div>\n",
              "<style scoped>\n",
              "    .dataframe tbody tr th:only-of-type {\n",
              "        vertical-align: middle;\n",
              "    }\n",
              "\n",
              "    .dataframe tbody tr th {\n",
              "        vertical-align: top;\n",
              "    }\n",
              "\n",
              "    .dataframe thead th {\n",
              "        text-align: right;\n",
              "    }\n",
              "</style>\n",
              "<table border=\"1\" class=\"dataframe\">\n",
              "  <thead>\n",
              "    <tr style=\"text-align: right;\">\n",
              "      <th></th>\n",
              "      <th>aukey_npubs</th>\n",
              "      <th>abstract_npubs</th>\n",
              "    </tr>\n",
              "  </thead>\n",
              "  <tbody>\n",
              "    <tr>\n",
              "      <th>Multi.*core fiber</th>\n",
              "      <td>374</td>\n",
              "      <td>984</td>\n",
              "    </tr>\n",
              "    <tr>\n",
              "      <th>multi.*mode fiber</th>\n",
              "      <td>490</td>\n",
              "      <td>3750</td>\n",
              "    </tr>\n",
              "    <tr>\n",
              "      <th>Few.*Mode Fiber</th>\n",
              "      <td>257</td>\n",
              "      <td>734</td>\n",
              "    </tr>\n",
              "    <tr>\n",
              "      <th>Spacial Multiplexing</th>\n",
              "      <td>0</td>\n",
              "      <td>0</td>\n",
              "    </tr>\n",
              "    <tr>\n",
              "      <th>Spatial Division Multiplexing</th>\n",
              "      <td>66</td>\n",
              "      <td>113</td>\n",
              "    </tr>\n",
              "    <tr>\n",
              "      <th>Space Division Multiplexing</th>\n",
              "      <td>233</td>\n",
              "      <td>217</td>\n",
              "    </tr>\n",
              "    <tr>\n",
              "      <th>PAM-4</th>\n",
              "      <td>79</td>\n",
              "      <td>300</td>\n",
              "    </tr>\n",
              "    <tr>\n",
              "      <th>pulse.*amplitude modulation</th>\n",
              "      <td>410</td>\n",
              "      <td>1475</td>\n",
              "    </tr>\n",
              "    <tr>\n",
              "      <th>High.*Speed Optical Communications</th>\n",
              "      <td>0</td>\n",
              "      <td>46</td>\n",
              "    </tr>\n",
              "    <tr>\n",
              "      <th>High.*Speed Optical Transmission</th>\n",
              "      <td>14</td>\n",
              "      <td>47</td>\n",
              "    </tr>\n",
              "    <tr>\n",
              "      <th>Frequency Division Multiplexing</th>\n",
              "      <td>2368</td>\n",
              "      <td>5981</td>\n",
              "    </tr>\n",
              "    <tr>\n",
              "      <th>Time Division Multiplexing</th>\n",
              "      <td>208</td>\n",
              "      <td>403</td>\n",
              "    </tr>\n",
              "    <tr>\n",
              "      <th>Code Division Multiplexing</th>\n",
              "      <td>93</td>\n",
              "      <td>158</td>\n",
              "    </tr>\n",
              "    <tr>\n",
              "      <th>Wavelength Division Multiplexing</th>\n",
              "      <td>1333</td>\n",
              "      <td>2226</td>\n",
              "    </tr>\n",
              "    <tr>\n",
              "      <th>total_npubs</th>\n",
              "      <td>5506</td>\n",
              "      <td>14684</td>\n",
              "    </tr>\n",
              "  </tbody>\n",
              "</table>\n",
              "</div>"
            ],
            "text/plain": [
              "                                    aukey_npubs  abstract_npubs\n",
              "Multi.*core fiber                           374             984\n",
              "multi.*mode fiber                           490            3750\n",
              "Few.*Mode Fiber                             257             734\n",
              "Spacial Multiplexing                          0               0\n",
              "Spatial Division Multiplexing                66             113\n",
              "Space Division Multiplexing                 233             217\n",
              "PAM-4                                        79             300\n",
              "pulse.*amplitude modulation                 410            1475\n",
              "High.*Speed Optical Communications            0              46\n",
              "High.*Speed Optical Transmission             14              47\n",
              "Frequency Division Multiplexing            2368            5981\n",
              "Time Division Multiplexing                  208             403\n",
              "Code Division Multiplexing                   93             158\n",
              "Wavelength Division Multiplexing           1333            2226\n",
              "total_npubs                                5506           14684"
            ]
          },
          "execution_count": 32,
          "metadata": {},
          "output_type": "execute_result"
        }
      ],
      "source": [
        "technology_search_results['7. 초대용량 데이터 대응 광통신 기술']['npubs_contain_searchterms']"
      ]
    },
    {
      "cell_type": "code",
      "execution_count": null,
      "id": "ccb57945",
      "metadata": {
        "id": "ccb57945"
      },
      "outputs": [],
      "source": []
    },
    {
      "cell_type": "code",
      "execution_count": null,
      "id": "fb16ed62",
      "metadata": {
        "id": "fb16ed62"
      },
      "outputs": [],
      "source": [
        "### 재실행!\n",
        "## case3 가장 복잡한 경우\n",
        "# 기술명 선언\n",
        "technology = '1-1. 금속 3D 프린팅(A-set)2'\n",
        "# 1차 검색식 입력\n",
        "search_texts_1st = [r'\\bmetal\\b']\n",
        "\n",
        "# 2차 검색식 입력\n",
        "search_texts_2nd = ['3D print.*', 'Additive Manufactur.*', r'\\bAM\\b', 'Rapid Prototyp.*', r'\\bRP\\b', r'\\bSLS\\b'\n",
        "                    , 'Selective Laser Sintering', r'\\bSLM\\b', 'Selective Laser Melting', r'\\bSLA\\b', 'Stereo.?lithograph.*'\n",
        "                    , r'\\bPBF\\b', 'Powder Bed Fusion', r'\\bDED\\b', 'Direct Ejection Deposition', r'\\bFDM\\b'\n",
        "                    , 'Fused deposition modeling', r'\\bFFF\\b', 'Fused filament fabrication']"
      ]
    },
    {
      "cell_type": "code",
      "execution_count": null,
      "id": "8d5d7ead",
      "metadata": {
        "id": "8d5d7ead",
        "outputId": "ba22931a-0c45-43a8-f7c3-015f556d0a60",
        "colab": {
          "referenced_widgets": [
            "7a518c1d73fd4627a0919549c894d29d",
            "55f34ab7a16b4c95a68f39b5043ca672",
            "006540e1a81d4e35b06ccd766cabb27b",
            "8bf448cf62744aabbd7c9e1b17fa730b"
          ]
        }
      },
      "outputs": [
        {
          "data": {
            "application/vnd.jupyter.widget-view+json": {
              "model_id": "7a518c1d73fd4627a0919549c894d29d",
              "version_major": 2,
              "version_minor": 0
            },
            "text/plain": [
              "search_in_aukey for 1-1. 금속 3D 프린팅(A-set)2:   0%|          | 0/1 [00:00<?, ?it/s]"
            ]
          },
          "metadata": {},
          "output_type": "display_data"
        },
        {
          "data": {
            "application/vnd.jupyter.widget-view+json": {
              "model_id": "55f34ab7a16b4c95a68f39b5043ca672",
              "version_major": 2,
              "version_minor": 0
            },
            "text/plain": [
              "search_in_abstract for 1-1. 금속 3D 프린팅(A-set)2:   0%|          | 0/1 [00:00<?, ?it/s]"
            ]
          },
          "metadata": {},
          "output_type": "display_data"
        },
        {
          "data": {
            "application/vnd.jupyter.widget-view+json": {
              "model_id": "006540e1a81d4e35b06ccd766cabb27b",
              "version_major": 2,
              "version_minor": 0
            },
            "text/plain": [
              "search_in_aukey for 1-1. 금속 3D 프린팅(A-set)2:   0%|          | 0/19 [00:00<?, ?it/s]"
            ]
          },
          "metadata": {},
          "output_type": "display_data"
        },
        {
          "data": {
            "application/vnd.jupyter.widget-view+json": {
              "model_id": "8bf448cf62744aabbd7c9e1b17fa730b",
              "version_major": 2,
              "version_minor": 0
            },
            "text/plain": [
              "search_in_abstract for 1-1. 금속 3D 프린팅(A-set)2:   0%|          | 0/19 [00:00<?, ?it/s]"
            ]
          },
          "metadata": {},
          "output_type": "display_data"
        }
      ],
      "source": [
        "technology_search_results = search_and_organize_1and(technology, search_texts_1st, search_texts_2nd, df_text_full_20_full,technology_search_results)\n"
      ]
    },
    {
      "cell_type": "code",
      "execution_count": null,
      "id": "ac9978f5",
      "metadata": {
        "id": "ac9978f5",
        "outputId": "06f8e144-df79-4f79-ece5-64b0487ba715"
      },
      "outputs": [
        {
          "data": {
            "text/html": [
              "<div>\n",
              "<style scoped>\n",
              "    .dataframe tbody tr th:only-of-type {\n",
              "        vertical-align: middle;\n",
              "    }\n",
              "\n",
              "    .dataframe tbody tr th {\n",
              "        vertical-align: top;\n",
              "    }\n",
              "\n",
              "    .dataframe thead th {\n",
              "        text-align: right;\n",
              "    }\n",
              "</style>\n",
              "<table border=\"1\" class=\"dataframe\">\n",
              "  <thead>\n",
              "    <tr style=\"text-align: right;\">\n",
              "      <th></th>\n",
              "      <th>aukey_npubs</th>\n",
              "      <th>abstract_npubs</th>\n",
              "    </tr>\n",
              "  </thead>\n",
              "  <tbody>\n",
              "    <tr>\n",
              "      <th>\\bmetal\\b</th>\n",
              "      <td>131488</td>\n",
              "      <td>607421</td>\n",
              "    </tr>\n",
              "    <tr>\n",
              "      <th>total_npubs</th>\n",
              "      <td>131488</td>\n",
              "      <td>607421</td>\n",
              "    </tr>\n",
              "    <tr>\n",
              "      <th>3D print.*</th>\n",
              "      <td>194</td>\n",
              "      <td>774</td>\n",
              "    </tr>\n",
              "    <tr>\n",
              "      <th>Additive Manufactur.*</th>\n",
              "      <td>697</td>\n",
              "      <td>2311</td>\n",
              "    </tr>\n",
              "    <tr>\n",
              "      <th>\\bAM\\b</th>\n",
              "      <td>69</td>\n",
              "      <td>3458</td>\n",
              "    </tr>\n",
              "    <tr>\n",
              "      <th>Rapid Prototyp.*</th>\n",
              "      <td>62</td>\n",
              "      <td>297</td>\n",
              "    </tr>\n",
              "    <tr>\n",
              "      <th>\\bRP\\b</th>\n",
              "      <td>12</td>\n",
              "      <td>465</td>\n",
              "    </tr>\n",
              "    <tr>\n",
              "      <th>\\bSLS\\b</th>\n",
              "      <td>11</td>\n",
              "      <td>260</td>\n",
              "    </tr>\n",
              "    <tr>\n",
              "      <th>Selective Laser Sintering</th>\n",
              "      <td>37</td>\n",
              "      <td>166</td>\n",
              "    </tr>\n",
              "    <tr>\n",
              "      <th>\\bSLM\\b</th>\n",
              "      <td>42</td>\n",
              "      <td>639</td>\n",
              "    </tr>\n",
              "    <tr>\n",
              "      <th>Selective Laser Melting</th>\n",
              "      <td>178</td>\n",
              "      <td>639</td>\n",
              "    </tr>\n",
              "    <tr>\n",
              "      <th>\\bSLA\\b</th>\n",
              "      <td>3</td>\n",
              "      <td>84</td>\n",
              "    </tr>\n",
              "    <tr>\n",
              "      <th>Stereo.?lithograph.*</th>\n",
              "      <td>17</td>\n",
              "      <td>159</td>\n",
              "    </tr>\n",
              "    <tr>\n",
              "      <th>\\bPBF\\b</th>\n",
              "      <td>11</td>\n",
              "      <td>121</td>\n",
              "    </tr>\n",
              "    <tr>\n",
              "      <th>Powder Bed Fusion</th>\n",
              "      <td>73</td>\n",
              "      <td>291</td>\n",
              "    </tr>\n",
              "    <tr>\n",
              "      <th>\\bDED\\b</th>\n",
              "      <td>5</td>\n",
              "      <td>87</td>\n",
              "    </tr>\n",
              "    <tr>\n",
              "      <th>Direct Ejection Deposition</th>\n",
              "      <td>0</td>\n",
              "      <td>0</td>\n",
              "    </tr>\n",
              "    <tr>\n",
              "      <th>\\bFDM\\b</th>\n",
              "      <td>13</td>\n",
              "      <td>122</td>\n",
              "    </tr>\n",
              "    <tr>\n",
              "      <th>Fused deposition modeling</th>\n",
              "      <td>14</td>\n",
              "      <td>71</td>\n",
              "    </tr>\n",
              "    <tr>\n",
              "      <th>\\bFFF\\b</th>\n",
              "      <td>3</td>\n",
              "      <td>49</td>\n",
              "    </tr>\n",
              "    <tr>\n",
              "      <th>Fused filament fabrication</th>\n",
              "      <td>12</td>\n",
              "      <td>37</td>\n",
              "    </tr>\n",
              "    <tr>\n",
              "      <th>total_npubs</th>\n",
              "      <td>1055</td>\n",
              "      <td>7111</td>\n",
              "    </tr>\n",
              "  </tbody>\n",
              "</table>\n",
              "</div>"
            ],
            "text/plain": [
              "                            aukey_npubs  abstract_npubs\n",
              "\\bmetal\\b                        131488          607421\n",
              "total_npubs                      131488          607421\n",
              "3D print.*                          194             774\n",
              "Additive Manufactur.*               697            2311\n",
              "\\bAM\\b                               69            3458\n",
              "Rapid Prototyp.*                     62             297\n",
              "\\bRP\\b                               12             465\n",
              "\\bSLS\\b                              11             260\n",
              "Selective Laser Sintering            37             166\n",
              "\\bSLM\\b                              42             639\n",
              "Selective Laser Melting             178             639\n",
              "\\bSLA\\b                               3              84\n",
              "Stereo.?lithograph.*                 17             159\n",
              "\\bPBF\\b                              11             121\n",
              "Powder Bed Fusion                    73             291\n",
              "\\bDED\\b                               5              87\n",
              "Direct Ejection Deposition            0               0\n",
              "\\bFDM\\b                              13             122\n",
              "Fused deposition modeling            14              71\n",
              "\\bFFF\\b                               3              49\n",
              "Fused filament fabrication           12              37\n",
              "total_npubs                        1055            7111"
            ]
          },
          "execution_count": 67,
          "metadata": {},
          "output_type": "execute_result"
        }
      ],
      "source": [
        "technology_search_results['1-1. 금속 3D 프린팅(A-set)2']['npubs_contain_searchterms']"
      ]
    },
    {
      "cell_type": "code",
      "execution_count": null,
      "id": "6d2bb889",
      "metadata": {
        "id": "6d2bb889"
      },
      "outputs": [],
      "source": [
        "# 3차 검색식 입력\n",
        "search_texts_3rd = [r'\\bDMP\\b', 'Direct Metal Printing', r'\\bDMLS\\b', 'Direct Metal Laser Sintering'\n",
        "                    , r'\\bDMLM\\b', 'Direct Metal Laser Melting']"
      ]
    },
    {
      "cell_type": "code",
      "execution_count": null,
      "id": "ad7d731a",
      "metadata": {
        "id": "ad7d731a"
      },
      "outputs": [],
      "source": [
        "# OR단순검색식 탐색 함수 실행\n",
        "technology = '1-2. 금속 3D 프린팅(B-set)'"
      ]
    },
    {
      "cell_type": "code",
      "execution_count": null,
      "id": "0cba55e5",
      "metadata": {
        "id": "0cba55e5",
        "outputId": "2d34d62c-0bae-4cda-cd8a-14227409b449",
        "colab": {
          "referenced_widgets": [
            "4549f657a22847638023919c0779ede8",
            "c0fc66ce975241cba2d308c4f84297ef"
          ]
        }
      },
      "outputs": [
        {
          "data": {
            "application/vnd.jupyter.widget-view+json": {
              "model_id": "4549f657a22847638023919c0779ede8",
              "version_major": 2,
              "version_minor": 0
            },
            "text/plain": [
              "search_in_aukey for 1-2. 금속 3D 프린팅(B-set):   0%|          | 0/6 [00:00<?, ?it/s]"
            ]
          },
          "metadata": {},
          "output_type": "display_data"
        },
        {
          "data": {
            "application/vnd.jupyter.widget-view+json": {
              "model_id": "c0fc66ce975241cba2d308c4f84297ef",
              "version_major": 2,
              "version_minor": 0
            },
            "text/plain": [
              "search_in_abstract for 1-2. 금속 3D 프린팅(B-set):   0%|          | 0/6 [00:00<?, ?it/s]"
            ]
          },
          "metadata": {},
          "output_type": "display_data"
        }
      ],
      "source": [
        "technology_search_results = search_and_organize(technology, search_texts_3rd, df_text_full_20_full , technology_search_results)"
      ]
    },
    {
      "cell_type": "code",
      "execution_count": null,
      "id": "364b02c3",
      "metadata": {
        "id": "364b02c3",
        "outputId": "b7bccb5e-6416-4a61-fa20-b0222eeeca7e"
      },
      "outputs": [
        {
          "data": {
            "text/html": [
              "<div>\n",
              "<style scoped>\n",
              "    .dataframe tbody tr th:only-of-type {\n",
              "        vertical-align: middle;\n",
              "    }\n",
              "\n",
              "    .dataframe tbody tr th {\n",
              "        vertical-align: top;\n",
              "    }\n",
              "\n",
              "    .dataframe thead th {\n",
              "        text-align: right;\n",
              "    }\n",
              "</style>\n",
              "<table border=\"1\" class=\"dataframe\">\n",
              "  <thead>\n",
              "    <tr style=\"text-align: right;\">\n",
              "      <th></th>\n",
              "      <th>aukey_npubs</th>\n",
              "      <th>abstract_npubs</th>\n",
              "    </tr>\n",
              "  </thead>\n",
              "  <tbody>\n",
              "    <tr>\n",
              "      <th>metal</th>\n",
              "      <td>260466</td>\n",
              "      <td>959811</td>\n",
              "    </tr>\n",
              "    <tr>\n",
              "      <th>total_npubs</th>\n",
              "      <td>260466</td>\n",
              "      <td>959811</td>\n",
              "    </tr>\n",
              "    <tr>\n",
              "      <th>3D print.*</th>\n",
              "      <td>285</td>\n",
              "      <td>1130</td>\n",
              "    </tr>\n",
              "    <tr>\n",
              "      <th>Additive Manufactur.*</th>\n",
              "      <td>917</td>\n",
              "      <td>3387</td>\n",
              "    </tr>\n",
              "    <tr>\n",
              "      <th>\\bAM\\b</th>\n",
              "      <td>95</td>\n",
              "      <td>5266</td>\n",
              "    </tr>\n",
              "    <tr>\n",
              "      <th>Rapid Prototyp.*</th>\n",
              "      <td>84</td>\n",
              "      <td>400</td>\n",
              "    </tr>\n",
              "    <tr>\n",
              "      <th>\\bRP\\b</th>\n",
              "      <td>21</td>\n",
              "      <td>758</td>\n",
              "    </tr>\n",
              "    <tr>\n",
              "      <th>\\bSLS\\b</th>\n",
              "      <td>15</td>\n",
              "      <td>403</td>\n",
              "    </tr>\n",
              "    <tr>\n",
              "      <th>Selective Laser Sintering</th>\n",
              "      <td>55</td>\n",
              "      <td>244</td>\n",
              "    </tr>\n",
              "    <tr>\n",
              "      <th>\\bSLM\\b</th>\n",
              "      <td>56</td>\n",
              "      <td>1138</td>\n",
              "    </tr>\n",
              "    <tr>\n",
              "      <th>Selective Laser Melting</th>\n",
              "      <td>303</td>\n",
              "      <td>1212</td>\n",
              "    </tr>\n",
              "    <tr>\n",
              "      <th>\\bSLA\\b</th>\n",
              "      <td>6</td>\n",
              "      <td>124</td>\n",
              "    </tr>\n",
              "    <tr>\n",
              "      <th>Stereo.?lithograph.*</th>\n",
              "      <td>25</td>\n",
              "      <td>216</td>\n",
              "    </tr>\n",
              "    <tr>\n",
              "      <th>\\bPBF\\b</th>\n",
              "      <td>14</td>\n",
              "      <td>200</td>\n",
              "    </tr>\n",
              "    <tr>\n",
              "      <th>Powder Bed Fusion</th>\n",
              "      <td>95</td>\n",
              "      <td>479</td>\n",
              "    </tr>\n",
              "    <tr>\n",
              "      <th>\\bDED\\b</th>\n",
              "      <td>5</td>\n",
              "      <td>150</td>\n",
              "    </tr>\n",
              "    <tr>\n",
              "      <th>Direct Ejection Deposition</th>\n",
              "      <td>0</td>\n",
              "      <td>0</td>\n",
              "    </tr>\n",
              "    <tr>\n",
              "      <th>\\bFDM\\b</th>\n",
              "      <td>16</td>\n",
              "      <td>167</td>\n",
              "    </tr>\n",
              "    <tr>\n",
              "      <th>Fused deposition modeling</th>\n",
              "      <td>15</td>\n",
              "      <td>103</td>\n",
              "    </tr>\n",
              "    <tr>\n",
              "      <th>\\bFFF\\b</th>\n",
              "      <td>5</td>\n",
              "      <td>70</td>\n",
              "    </tr>\n",
              "    <tr>\n",
              "      <th>Fused filament fabrication</th>\n",
              "      <td>16</td>\n",
              "      <td>51</td>\n",
              "    </tr>\n",
              "    <tr>\n",
              "      <th>total_npubs</th>\n",
              "      <td>1502</td>\n",
              "      <td>10989</td>\n",
              "    </tr>\n",
              "  </tbody>\n",
              "</table>\n",
              "</div>"
            ],
            "text/plain": [
              "                            aukey_npubs  abstract_npubs\n",
              "metal                            260466          959811\n",
              "total_npubs                      260466          959811\n",
              "3D print.*                          285            1130\n",
              "Additive Manufactur.*               917            3387\n",
              "\\bAM\\b                               95            5266\n",
              "Rapid Prototyp.*                     84             400\n",
              "\\bRP\\b                               21             758\n",
              "\\bSLS\\b                              15             403\n",
              "Selective Laser Sintering            55             244\n",
              "\\bSLM\\b                              56            1138\n",
              "Selective Laser Melting             303            1212\n",
              "\\bSLA\\b                               6             124\n",
              "Stereo.?lithograph.*                 25             216\n",
              "\\bPBF\\b                              14             200\n",
              "Powder Bed Fusion                    95             479\n",
              "\\bDED\\b                               5             150\n",
              "Direct Ejection Deposition            0               0\n",
              "\\bFDM\\b                              16             167\n",
              "Fused deposition modeling            15             103\n",
              "\\bFFF\\b                               5              70\n",
              "Fused filament fabrication           16              51\n",
              "total_npubs                        1502           10989"
            ]
          },
          "execution_count": 38,
          "metadata": {},
          "output_type": "execute_result"
        }
      ],
      "source": [
        "technology_search_results['1-1. 금속 3D 프린팅(A-set)']['npubs_contain_searchterms']"
      ]
    },
    {
      "cell_type": "code",
      "execution_count": null,
      "id": "c502e30f",
      "metadata": {
        "id": "c502e30f",
        "outputId": "d01f153d-fd48-41ca-aa50-5cf4d7e55e2e"
      },
      "outputs": [
        {
          "data": {
            "text/html": [
              "<div>\n",
              "<style scoped>\n",
              "    .dataframe tbody tr th:only-of-type {\n",
              "        vertical-align: middle;\n",
              "    }\n",
              "\n",
              "    .dataframe tbody tr th {\n",
              "        vertical-align: top;\n",
              "    }\n",
              "\n",
              "    .dataframe thead th {\n",
              "        text-align: right;\n",
              "    }\n",
              "</style>\n",
              "<table border=\"1\" class=\"dataframe\">\n",
              "  <thead>\n",
              "    <tr style=\"text-align: right;\">\n",
              "      <th></th>\n",
              "      <th>aukey_npubs</th>\n",
              "      <th>abstract_npubs</th>\n",
              "    </tr>\n",
              "  </thead>\n",
              "  <tbody>\n",
              "    <tr>\n",
              "      <th>\\bDMP\\b</th>\n",
              "      <td>218</td>\n",
              "      <td>3187</td>\n",
              "    </tr>\n",
              "    <tr>\n",
              "      <th>Direct Metal Printing</th>\n",
              "      <td>10</td>\n",
              "      <td>12</td>\n",
              "    </tr>\n",
              "    <tr>\n",
              "      <th>\\bDMLS\\b</th>\n",
              "      <td>130</td>\n",
              "      <td>441</td>\n",
              "    </tr>\n",
              "    <tr>\n",
              "      <th>Direct Metal Laser Sintering</th>\n",
              "      <td>193</td>\n",
              "      <td>374</td>\n",
              "    </tr>\n",
              "    <tr>\n",
              "      <th>\\bDMLM\\b</th>\n",
              "      <td>1</td>\n",
              "      <td>17</td>\n",
              "    </tr>\n",
              "    <tr>\n",
              "      <th>Direct Metal Laser Melting</th>\n",
              "      <td>1</td>\n",
              "      <td>14</td>\n",
              "    </tr>\n",
              "    <tr>\n",
              "      <th>total_npubs</th>\n",
              "      <td>489</td>\n",
              "      <td>3758</td>\n",
              "    </tr>\n",
              "  </tbody>\n",
              "</table>\n",
              "</div>"
            ],
            "text/plain": [
              "                              aukey_npubs  abstract_npubs\n",
              "\\bDMP\\b                               218            3187\n",
              "Direct Metal Printing                  10              12\n",
              "\\bDMLS\\b                              130             441\n",
              "Direct Metal Laser Sintering          193             374\n",
              "\\bDMLM\\b                                1              17\n",
              "Direct Metal Laser Melting              1              14\n",
              "total_npubs                           489            3758"
            ]
          },
          "execution_count": 40,
          "metadata": {},
          "output_type": "execute_result"
        }
      ],
      "source": [
        "technology_search_results['1-2. 금속 3D 프린팅(B-set)']['npubs_contain_searchterms']"
      ]
    },
    {
      "cell_type": "code",
      "execution_count": null,
      "id": "586d406c",
      "metadata": {
        "id": "586d406c"
      },
      "outputs": [],
      "source": [
        "\n"
      ]
    },
    {
      "cell_type": "code",
      "execution_count": null,
      "id": "6d8c8918",
      "metadata": {
        "id": "6d8c8918"
      },
      "outputs": [],
      "source": [
        "## 최종 파일 피클 저장 후 세부 내용 체크\n",
        "df_technology_search_results = pd.DataFrame(technology_search_results)\n",
        "df_technology_search_results.to_pickle('technology_search_results_2018top18_240319.pkl')"
      ]
    },
    {
      "cell_type": "code",
      "execution_count": null,
      "id": "a531cd40",
      "metadata": {
        "id": "a531cd40",
        "outputId": "38c19ef4-0d08-4fd1-ea0a-6c016a8ef641"
      },
      "outputs": [
        {
          "data": {
            "text/html": [
              "<div>\n",
              "<style scoped>\n",
              "    .dataframe tbody tr th:only-of-type {\n",
              "        vertical-align: middle;\n",
              "    }\n",
              "\n",
              "    .dataframe tbody tr th {\n",
              "        vertical-align: top;\n",
              "    }\n",
              "\n",
              "    .dataframe thead th {\n",
              "        text-align: right;\n",
              "    }\n",
              "</style>\n",
              "<table border=\"1\" class=\"dataframe\">\n",
              "  <thead>\n",
              "    <tr style=\"text-align: right;\">\n",
              "      <th></th>\n",
              "      <th>9. 나노유체 이용 에너지 효율화</th>\n",
              "      <th>4. 암 진단/예측 바이오마커</th>\n",
              "      <th>3. 휴먼 마이크로바이옴</th>\n",
              "      <th>2. 신축성 전자소자</th>\n",
              "      <th>5. 유전자 편집</th>\n",
              "      <th>7. 초대용량 데이터 대응 광통신 기술</th>\n",
              "      <th>1-1. 금속 3D 프린팅(A-set)</th>\n",
              "      <th>1-2. 금속 3D 프린팅(B-set)</th>\n",
              "      <th>6.무선 전력 전송</th>\n",
              "      <th>8. 면역세포치료</th>\n",
              "      <th>10. 상변화 소재 활용 열에너지 저장</th>\n",
              "    </tr>\n",
              "  </thead>\n",
              "  <tbody>\n",
              "    <tr>\n",
              "      <th>concatenated_results</th>\n",
              "      <td>uid cluster_id pubyear2 ...</td>\n",
              "      <td>uid cluster_id pubyear2...</td>\n",
              "      <td>uid cluster_id pubyear2...</td>\n",
              "      <td>uid cluster_id pubyear2...</td>\n",
              "      <td>uid cluster_id pubyear2...</td>\n",
              "      <td>uid cluster_id pubyear2 ...</td>\n",
              "      <td>uid cluster_id pubyear2 ...</td>\n",
              "      <td>uid cluster_id pubyear2  ...</td>\n",
              "      <td>uid cluster_id pubyear2 ...</td>\n",
              "      <td>uid cluster_id pubyear2...</td>\n",
              "      <td>uid cluster_id pubyear2 ...</td>\n",
              "    </tr>\n",
              "    <tr>\n",
              "      <th>concatenated_results_abs</th>\n",
              "      <td>uid cluster_id pubyear2...</td>\n",
              "      <td>uid cluster_id pubyear2...</td>\n",
              "      <td>uid cluster_id pubyear2...</td>\n",
              "      <td>uid cluster_id pubyear2...</td>\n",
              "      <td>uid cluster_id pubyear2...</td>\n",
              "      <td>uid cluster_id pubyear2...</td>\n",
              "      <td>uid cluster_id pubyear2...</td>\n",
              "      <td>uid cluster_id pubyear2 ...</td>\n",
              "      <td>uid cluster_id pubyear2 ...</td>\n",
              "      <td>uid cluster_id pubyear2...</td>\n",
              "      <td>uid cluster_id pubyear2...</td>\n",
              "    </tr>\n",
              "    <tr>\n",
              "      <th>npubs_contain_searchterms</th>\n",
              "      <td>aukey_npubs  abstract_npubs\n",
              "Nan...</td>\n",
              "      <td>aukey_npubs  abstract_npubs\n",
              "bio...</td>\n",
              "      <td>aukey_npubs  abstract_npubs\n",
              "mic...</td>\n",
              "      <td>aukey_npubs  abstract_npubs\n",
              "st...</td>\n",
              "      <td>...</td>\n",
              "      <td>aukey_npub...</td>\n",
              "      <td>aukey_npubs  abstr...</td>\n",
              "      <td>aukey_npubs  abs...</td>\n",
              "      <td>aukey_npubs  abs...</td>\n",
              "      <td>aukey_npubs  abstract_np...</td>\n",
              "      <td>aukey_npubs  abstrac...</td>\n",
              "    </tr>\n",
              "  </tbody>\n",
              "</table>\n",
              "</div>"
            ],
            "text/plain": [
              "                                                          9. 나노유체 이용 에너지 효율화  \\\n",
              "concatenated_results                             uid cluster_id pubyear2 ...   \n",
              "concatenated_results_abs                          uid cluster_id pubyear2...   \n",
              "npubs_contain_searchterms                 aukey_npubs  abstract_npubs\n",
              "Nan...   \n",
              "\n",
              "                                                            4. 암 진단/예측 바이오마커  \\\n",
              "concatenated_results                              uid cluster_id pubyear2...   \n",
              "concatenated_results_abs                          uid cluster_id pubyear2...   \n",
              "npubs_contain_searchterms                 aukey_npubs  abstract_npubs\n",
              "bio...   \n",
              "\n",
              "                                                               3. 휴먼 마이크로바이옴  \\\n",
              "concatenated_results                              uid cluster_id pubyear2...   \n",
              "concatenated_results_abs                          uid cluster_id pubyear2...   \n",
              "npubs_contain_searchterms                 aukey_npubs  abstract_npubs\n",
              "mic...   \n",
              "\n",
              "                                                                 2. 신축성 전자소자  \\\n",
              "concatenated_results                              uid cluster_id pubyear2...   \n",
              "concatenated_results_abs                          uid cluster_id pubyear2...   \n",
              "npubs_contain_searchterms                  aukey_npubs  abstract_npubs\n",
              "st...   \n",
              "\n",
              "                                                                   5. 유전자 편집  \\\n",
              "concatenated_results                              uid cluster_id pubyear2...   \n",
              "concatenated_results_abs                          uid cluster_id pubyear2...   \n",
              "npubs_contain_searchterms                                                ...   \n",
              "\n",
              "                                                       7. 초대용량 데이터 대응 광통신 기술  \\\n",
              "concatenated_results                             uid cluster_id pubyear2 ...   \n",
              "concatenated_results_abs                          uid cluster_id pubyear2...   \n",
              "npubs_contain_searchterms                                      aukey_npub...   \n",
              "\n",
              "                                                       1-1. 금속 3D 프린팅(A-set)  \\\n",
              "concatenated_results                             uid cluster_id pubyear2 ...   \n",
              "concatenated_results_abs                          uid cluster_id pubyear2...   \n",
              "npubs_contain_searchterms                              aukey_npubs  abstr...   \n",
              "\n",
              "                                                       1-2. 금속 3D 프린팅(B-set)  \\\n",
              "concatenated_results                            uid cluster_id pubyear2  ...   \n",
              "concatenated_results_abs                         uid cluster_id pubyear2 ...   \n",
              "npubs_contain_searchterms                                aukey_npubs  abs...   \n",
              "\n",
              "                                                                  6.무선 전력 전송  \\\n",
              "concatenated_results                             uid cluster_id pubyear2 ...   \n",
              "concatenated_results_abs                         uid cluster_id pubyear2 ...   \n",
              "npubs_contain_searchterms                                aukey_npubs  abs...   \n",
              "\n",
              "                                                                   8. 면역세포치료  \\\n",
              "concatenated_results                              uid cluster_id pubyear2...   \n",
              "concatenated_results_abs                          uid cluster_id pubyear2...   \n",
              "npubs_contain_searchterms                        aukey_npubs  abstract_np...   \n",
              "\n",
              "                                                       10. 상변화 소재 활용 열에너지 저장  \n",
              "concatenated_results                             uid cluster_id pubyear2 ...  \n",
              "concatenated_results_abs                          uid cluster_id pubyear2...  \n",
              "npubs_contain_searchterms                            aukey_npubs  abstrac...  "
            ]
          },
          "execution_count": 72,
          "metadata": {},
          "output_type": "execute_result"
        }
      ],
      "source": [
        "df_technology_search_results"
      ]
    },
    {
      "cell_type": "code",
      "execution_count": null,
      "id": "78adf13d",
      "metadata": {
        "id": "78adf13d"
      },
      "outputs": [],
      "source": [
        "# 뽑힌 데이터 저장\n",
        "# 데이터 저장을 위한 데스트 작업 먼저"
      ]
    },
    {
      "cell_type": "code",
      "execution_count": null,
      "id": "c63a029e",
      "metadata": {
        "id": "c63a029e",
        "outputId": "fd91dd98-7c35-4908-da3f-1cef05496697"
      },
      "outputs": [
        {
          "data": {
            "text/plain": [
              "['1-1. 금속 3D 프린팅(A-set)',\n",
              " '1-1. 금속 3D 프린팅(A-set)2',\n",
              " '1-2. 금속 3D 프린팅(B-set)',\n",
              " '10. 상변화 소재 활용 열에너지 저장',\n",
              " '2. 신축성 전자소자',\n",
              " '3. 휴먼 마이크로바이옴',\n",
              " '4. 암 진단_예측 바이오마커',\n",
              " '5. 유전자 편집',\n",
              " '6.무선 전력 전송',\n",
              " '7. 초대용량 데이터 대응 광통신 기술',\n",
              " '8. 면역세포치료',\n",
              " '9. 나노유체 이용 에너지 효율화']"
            ]
          },
          "execution_count": 100,
          "metadata": {},
          "output_type": "execute_result"
        }
      ],
      "source": [
        "sorted(list(technology_search_results.keys()))"
      ]
    },
    {
      "cell_type": "code",
      "execution_count": null,
      "id": "99b9c379",
      "metadata": {
        "id": "99b9c379"
      },
      "outputs": [],
      "source": [
        "techs = sorted(list(technology_search_results.keys()))"
      ]
    },
    {
      "cell_type": "code",
      "execution_count": null,
      "id": "593e4a1c",
      "metadata": {
        "id": "593e4a1c",
        "outputId": "e652973b-c6d2-4698-ef91-5198011adb78"
      },
      "outputs": [
        {
          "data": {
            "text/plain": [
              "dict_keys(['concatenated_results', 'concatenated_results_abs', 'npubs_contain_searchterms'])"
            ]
          },
          "execution_count": 102,
          "metadata": {},
          "output_type": "execute_result"
        }
      ],
      "source": [
        "technology_search_results[list(technology_search_results.keys())[0]].keys()"
      ]
    },
    {
      "cell_type": "code",
      "execution_count": null,
      "id": "1276f273",
      "metadata": {
        "id": "1276f273",
        "outputId": "8c7190d4-ca4a-4206-84c8-58e8f6ff9ed9"
      },
      "outputs": [
        {
          "name": "stdout",
          "output_type": "stream",
          "text": [
            "1-1. 금속 3D 프린팅(A-set)\n",
            "1-1. 금속 3D 프린팅(A-set)2\n",
            "1-2. 금속 3D 프린팅(B-set)\n",
            "10. 상변화 소재 활용 열에너지 저장\n",
            "2. 신축성 전자소자\n",
            "3. 휴먼 마이크로바이옴\n",
            "4. 암 진단_예측 바이오마커\n",
            "5. 유전자 편집\n",
            "6.무선 전력 전송\n",
            "7. 초대용량 데이터 대응 광통신 기술\n",
            "8. 면역세포치료\n",
            "9. 나노유체 이용 에너지 효율화\n"
          ]
        }
      ],
      "source": [
        "for tech in techs:\n",
        "    print(tech)\n",
        "    technology_search_results[tech]['concatenated_results'].to_csv(f'{tech}_search_results_from_aukey.csv')\n",
        "    technology_search_results[tech]['concatenated_results_abs'].to_csv(f'{tech}_search_results_from_abstract.csv')\n",
        "    technology_search_results[tech]['npubs_contain_searchterms'].to_csv(f'{tech}_npubs_contain_searchterms.csv')"
      ]
    },
    {
      "cell_type": "code",
      "execution_count": null,
      "id": "df579633",
      "metadata": {
        "id": "df579633",
        "outputId": "32ea36d1-2a5a-4c9e-a261-35d457d852e7"
      },
      "outputs": [
        {
          "data": {
            "text/plain": [
              "'1-1. 금속 3D 프린팅(A-set)'"
            ]
          },
          "execution_count": 104,
          "metadata": {},
          "output_type": "execute_result"
        }
      ],
      "source": [
        "sorted(list(technology_search_results.keys()))[0]"
      ]
    },
    {
      "cell_type": "code",
      "execution_count": null,
      "id": "e54e4eb7",
      "metadata": {
        "id": "e54e4eb7"
      },
      "outputs": [],
      "source": [
        "tech = sorted(list(technology_search_results.keys()))[9]"
      ]
    },
    {
      "cell_type": "code",
      "execution_count": null,
      "id": "9a7073c0",
      "metadata": {
        "id": "9a7073c0",
        "outputId": "dfc1db4a-af33-4fc0-8511-b500a04fb720"
      },
      "outputs": [
        {
          "data": {
            "text/plain": [
              "'7. 초대용량 데이터 대응 광통신 기술'"
            ]
          },
          "execution_count": 106,
          "metadata": {},
          "output_type": "execute_result"
        }
      ],
      "source": [
        "tech"
      ]
    },
    {
      "cell_type": "code",
      "execution_count": null,
      "id": "4880a8f1",
      "metadata": {
        "id": "4880a8f1",
        "outputId": "b49caf22-b8f4-4d41-9031-59a67246d003"
      },
      "outputs": [
        {
          "data": {
            "text/html": [
              "<div>\n",
              "<style scoped>\n",
              "    .dataframe tbody tr th:only-of-type {\n",
              "        vertical-align: middle;\n",
              "    }\n",
              "\n",
              "    .dataframe tbody tr th {\n",
              "        vertical-align: top;\n",
              "    }\n",
              "\n",
              "    .dataframe thead th {\n",
              "        text-align: right;\n",
              "    }\n",
              "</style>\n",
              "<table border=\"1\" class=\"dataframe\">\n",
              "  <thead>\n",
              "    <tr style=\"text-align: right;\">\n",
              "      <th></th>\n",
              "      <th>aukey_npubs</th>\n",
              "      <th>abstract_npubs</th>\n",
              "    </tr>\n",
              "  </thead>\n",
              "  <tbody>\n",
              "    <tr>\n",
              "      <th>Multi.*core fiber</th>\n",
              "      <td>374</td>\n",
              "      <td>984</td>\n",
              "    </tr>\n",
              "    <tr>\n",
              "      <th>multi.*mode fiber</th>\n",
              "      <td>490</td>\n",
              "      <td>3750</td>\n",
              "    </tr>\n",
              "    <tr>\n",
              "      <th>Few.*Mode Fiber</th>\n",
              "      <td>257</td>\n",
              "      <td>734</td>\n",
              "    </tr>\n",
              "    <tr>\n",
              "      <th>Spacial Multiplexing</th>\n",
              "      <td>0</td>\n",
              "      <td>0</td>\n",
              "    </tr>\n",
              "    <tr>\n",
              "      <th>Spatial Division Multiplexing</th>\n",
              "      <td>66</td>\n",
              "      <td>113</td>\n",
              "    </tr>\n",
              "    <tr>\n",
              "      <th>Space Division Multiplexing</th>\n",
              "      <td>233</td>\n",
              "      <td>217</td>\n",
              "    </tr>\n",
              "    <tr>\n",
              "      <th>PAM-4</th>\n",
              "      <td>79</td>\n",
              "      <td>300</td>\n",
              "    </tr>\n",
              "    <tr>\n",
              "      <th>pulse.*amplitude modulation</th>\n",
              "      <td>410</td>\n",
              "      <td>1475</td>\n",
              "    </tr>\n",
              "    <tr>\n",
              "      <th>High.*Speed Optical Communications</th>\n",
              "      <td>0</td>\n",
              "      <td>46</td>\n",
              "    </tr>\n",
              "    <tr>\n",
              "      <th>High.*Speed Optical Transmission</th>\n",
              "      <td>14</td>\n",
              "      <td>47</td>\n",
              "    </tr>\n",
              "    <tr>\n",
              "      <th>Frequency Division Multiplexing</th>\n",
              "      <td>2368</td>\n",
              "      <td>5981</td>\n",
              "    </tr>\n",
              "    <tr>\n",
              "      <th>Time Division Multiplexing</th>\n",
              "      <td>208</td>\n",
              "      <td>403</td>\n",
              "    </tr>\n",
              "    <tr>\n",
              "      <th>Code Division Multiplexing</th>\n",
              "      <td>93</td>\n",
              "      <td>158</td>\n",
              "    </tr>\n",
              "    <tr>\n",
              "      <th>Wavelength Division Multiplexing</th>\n",
              "      <td>1333</td>\n",
              "      <td>2226</td>\n",
              "    </tr>\n",
              "    <tr>\n",
              "      <th>total_npubs</th>\n",
              "      <td>5506</td>\n",
              "      <td>14684</td>\n",
              "    </tr>\n",
              "  </tbody>\n",
              "</table>\n",
              "</div>"
            ],
            "text/plain": [
              "                                    aukey_npubs  abstract_npubs\n",
              "Multi.*core fiber                           374             984\n",
              "multi.*mode fiber                           490            3750\n",
              "Few.*Mode Fiber                             257             734\n",
              "Spacial Multiplexing                          0               0\n",
              "Spatial Division Multiplexing                66             113\n",
              "Space Division Multiplexing                 233             217\n",
              "PAM-4                                        79             300\n",
              "pulse.*amplitude modulation                 410            1475\n",
              "High.*Speed Optical Communications            0              46\n",
              "High.*Speed Optical Transmission             14              47\n",
              "Frequency Division Multiplexing            2368            5981\n",
              "Time Division Multiplexing                  208             403\n",
              "Code Division Multiplexing                   93             158\n",
              "Wavelength Division Multiplexing           1333            2226\n",
              "total_npubs                                5506           14684"
            ]
          },
          "execution_count": 107,
          "metadata": {},
          "output_type": "execute_result"
        }
      ],
      "source": [
        "technology_search_results[tech]['npubs_contain_searchterms']"
      ]
    },
    {
      "cell_type": "code",
      "execution_count": null,
      "id": "60088225",
      "metadata": {
        "id": "60088225"
      },
      "outputs": [],
      "source": [
        "termlist =  list(technology_search_results[tech]['npubs_contain_searchterms'].index)"
      ]
    },
    {
      "cell_type": "code",
      "execution_count": null,
      "id": "7cfd2552",
      "metadata": {
        "id": "7cfd2552"
      },
      "outputs": [],
      "source": [
        "df = technology_search_results[tech]['concatenated_results']"
      ]
    },
    {
      "cell_type": "code",
      "execution_count": null,
      "id": "d3935773",
      "metadata": {
        "id": "d3935773",
        "outputId": "9afa9e19-d422-4c01-d66c-bed6a01d8618"
      },
      "outputs": [
        {
          "data": {
            "text/html": [
              "<div>\n",
              "<style scoped>\n",
              "    .dataframe tbody tr th:only-of-type {\n",
              "        vertical-align: middle;\n",
              "    }\n",
              "\n",
              "    .dataframe tbody tr th {\n",
              "        vertical-align: top;\n",
              "    }\n",
              "\n",
              "    .dataframe thead th {\n",
              "        text-align: right;\n",
              "    }\n",
              "</style>\n",
              "<table border=\"1\" class=\"dataframe\">\n",
              "  <thead>\n",
              "    <tr style=\"text-align: right;\">\n",
              "      <th></th>\n",
              "      <th>uid</th>\n",
              "      <th>cluster_id</th>\n",
              "      <th>pubyear2</th>\n",
              "      <th>item</th>\n",
              "      <th>aukey</th>\n",
              "      <th>abstract</th>\n",
              "      <th>aukey_modified</th>\n",
              "    </tr>\n",
              "  </thead>\n",
              "  <tbody>\n",
              "    <tr>\n",
              "      <th>8</th>\n",
              "      <td>WOS:000350216400013</td>\n",
              "      <td>120</td>\n",
              "      <td>2015</td>\n",
              "      <td>Two-Dimensional, 37-Channel, High-Bandwidth, U...</td>\n",
              "      <td>Multicore fiber fan-out;optical fiber couplers...</td>\n",
              "      <td>We demonstrate a hexagonal, monolithic optical...</td>\n",
              "      <td>Multicore fiber fan-out optical fiber couplers...</td>\n",
              "    </tr>\n",
              "    <tr>\n",
              "      <th>9</th>\n",
              "      <td>WOS:000351806300009</td>\n",
              "      <td>120</td>\n",
              "      <td>2015</td>\n",
              "      <td>TCF-MMF-TCF fiber structure based interferomet...</td>\n",
              "      <td>Multimode fiber;Thinned core fiber;in-fiber MZ...</td>\n",
              "      <td>A liquid refractive index (RI) sensor based on...</td>\n",
              "      <td>Multimode fiber Thinned core fiber in-fiber MZ...</td>\n",
              "    </tr>\n",
              "    <tr>\n",
              "      <th>11</th>\n",
              "      <td>WOS:000375860700008</td>\n",
              "      <td>120</td>\n",
              "      <td>2016</td>\n",
              "      <td>Low-temperature-sensitive relative humidity se...</td>\n",
              "      <td>Multimode interference;No-core fiber;SiO2 nano...</td>\n",
              "      <td>A low-temperature-sensitive relative humidity ...</td>\n",
              "      <td>Multimode interference No-core fiber SiO2 nano...</td>\n",
              "    </tr>\n",
              "    <tr>\n",
              "      <th>14</th>\n",
              "      <td>WOS:000393764000001</td>\n",
              "      <td>120</td>\n",
              "      <td>2017</td>\n",
              "      <td>Spatially Arrayed Long Period Gratings in Mult...</td>\n",
              "      <td>Multicore fiber;fiber grating;spatial division...</td>\n",
              "      <td>Based on electrical arc discharges mechanisms,...</td>\n",
              "      <td>Multicore fiber fiber grating spatial division...</td>\n",
              "    </tr>\n",
              "    <tr>\n",
              "      <th>16</th>\n",
              "      <td>WOS:000396442800013</td>\n",
              "      <td>120</td>\n",
              "      <td>2017</td>\n",
              "      <td>Refractive index sensor based on tapered multi...</td>\n",
              "      <td>Fiber optics sensors;Refractive index;Multicor...</td>\n",
              "      <td>A novel refractive index (RI) sensor based on ...</td>\n",
              "      <td>Fiber optics sensors Refractive index Multicor...</td>\n",
              "    </tr>\n",
              "    <tr>\n",
              "      <th>...</th>\n",
              "      <td>...</td>\n",
              "      <td>...</td>\n",
              "      <td>...</td>\n",
              "      <td>...</td>\n",
              "      <td>...</td>\n",
              "      <td>...</td>\n",
              "      <td>...</td>\n",
              "    </tr>\n",
              "    <tr>\n",
              "      <th>359</th>\n",
              "      <td>WOS:000538151700002</td>\n",
              "      <td>2671</td>\n",
              "      <td>2020</td>\n",
              "      <td>Digital Back Propagation in Long-Haul, MIMO-Su...</td>\n",
              "      <td>MIMO communication;Gain;Q-factor;Crosstalk;Mul...</td>\n",
              "      <td>This work presents an experimental evaluation ...</td>\n",
              "      <td>MIMO communication Gain Q-factor Crosstalk Mul...</td>\n",
              "    </tr>\n",
              "    <tr>\n",
              "      <th>361</th>\n",
              "      <td>WOS:000554904400033</td>\n",
              "      <td>2671</td>\n",
              "      <td>2020</td>\n",
              "      <td>Spatial Density and Splicing Characteristic Op...</td>\n",
              "      <td>Optical fiber networks;Multicore processing;Sp...</td>\n",
              "      <td>Few-mode fiber design suitable for long-haul d...</td>\n",
              "      <td>Optical fiber networks Multicore processing Sp...</td>\n",
              "    </tr>\n",
              "    <tr>\n",
              "      <th>362</th>\n",
              "      <td>WOS:000565710400001</td>\n",
              "      <td>2671</td>\n",
              "      <td>2020</td>\n",
              "      <td>Efficient Channel Model for Homogeneous Weakly...</td>\n",
              "      <td>Channel models;Couplings;Optical fibers;Multic...</td>\n",
              "      <td>In recent years, several channel models for ho...</td>\n",
              "      <td>Channel models Couplings Optical fibers Multic...</td>\n",
              "    </tr>\n",
              "    <tr>\n",
              "      <th>368</th>\n",
              "      <td>WOS:000594923000017</td>\n",
              "      <td>2671</td>\n",
              "      <td>2020</td>\n",
              "      <td>High-Speed Performance Evaluation of Graded-In...</td>\n",
              "      <td>Multicore fiber;multimode fiber;fiber design a...</td>\n",
              "      <td>A comprehensive study on the optical character...</td>\n",
              "      <td>Multicore fiber multimode fiber fiber design a...</td>\n",
              "    </tr>\n",
              "    <tr>\n",
              "      <th>369</th>\n",
              "      <td>WOS:000598712900008</td>\n",
              "      <td>2671</td>\n",
              "      <td>2020</td>\n",
              "      <td>Semi-analytical approach for calculation of in...</td>\n",
              "      <td>Multicore fibers;Intercore crosstalk;Mode coup...</td>\n",
              "      <td>In this paper, a semi-analytical method to cal...</td>\n",
              "      <td>Multicore fibers Intercore crosstalk Mode coup...</td>\n",
              "    </tr>\n",
              "  </tbody>\n",
              "</table>\n",
              "<p>132 rows × 7 columns</p>\n",
              "</div>"
            ],
            "text/plain": [
              "                     uid cluster_id pubyear2  \\\n",
              "8    WOS:000350216400013        120     2015   \n",
              "9    WOS:000351806300009        120     2015   \n",
              "11   WOS:000375860700008        120     2016   \n",
              "14   WOS:000393764000001        120     2017   \n",
              "16   WOS:000396442800013        120     2017   \n",
              "..                   ...        ...      ...   \n",
              "359  WOS:000538151700002       2671     2020   \n",
              "361  WOS:000554904400033       2671     2020   \n",
              "362  WOS:000565710400001       2671     2020   \n",
              "368  WOS:000594923000017       2671     2020   \n",
              "369  WOS:000598712900008       2671     2020   \n",
              "\n",
              "                                                  item  \\\n",
              "8    Two-Dimensional, 37-Channel, High-Bandwidth, U...   \n",
              "9    TCF-MMF-TCF fiber structure based interferomet...   \n",
              "11   Low-temperature-sensitive relative humidity se...   \n",
              "14   Spatially Arrayed Long Period Gratings in Mult...   \n",
              "16   Refractive index sensor based on tapered multi...   \n",
              "..                                                 ...   \n",
              "359  Digital Back Propagation in Long-Haul, MIMO-Su...   \n",
              "361  Spatial Density and Splicing Characteristic Op...   \n",
              "362  Efficient Channel Model for Homogeneous Weakly...   \n",
              "368  High-Speed Performance Evaluation of Graded-In...   \n",
              "369  Semi-analytical approach for calculation of in...   \n",
              "\n",
              "                                                 aukey  \\\n",
              "8    Multicore fiber fan-out;optical fiber couplers...   \n",
              "9    Multimode fiber;Thinned core fiber;in-fiber MZ...   \n",
              "11   Multimode interference;No-core fiber;SiO2 nano...   \n",
              "14   Multicore fiber;fiber grating;spatial division...   \n",
              "16   Fiber optics sensors;Refractive index;Multicor...   \n",
              "..                                                 ...   \n",
              "359  MIMO communication;Gain;Q-factor;Crosstalk;Mul...   \n",
              "361  Optical fiber networks;Multicore processing;Sp...   \n",
              "362  Channel models;Couplings;Optical fibers;Multic...   \n",
              "368  Multicore fiber;multimode fiber;fiber design a...   \n",
              "369  Multicore fibers;Intercore crosstalk;Mode coup...   \n",
              "\n",
              "                                              abstract  \\\n",
              "8    We demonstrate a hexagonal, monolithic optical...   \n",
              "9    A liquid refractive index (RI) sensor based on...   \n",
              "11   A low-temperature-sensitive relative humidity ...   \n",
              "14   Based on electrical arc discharges mechanisms,...   \n",
              "16   A novel refractive index (RI) sensor based on ...   \n",
              "..                                                 ...   \n",
              "359  This work presents an experimental evaluation ...   \n",
              "361  Few-mode fiber design suitable for long-haul d...   \n",
              "362  In recent years, several channel models for ho...   \n",
              "368  A comprehensive study on the optical character...   \n",
              "369  In this paper, a semi-analytical method to cal...   \n",
              "\n",
              "                                        aukey_modified  \n",
              "8    Multicore fiber fan-out optical fiber couplers...  \n",
              "9    Multimode fiber Thinned core fiber in-fiber MZ...  \n",
              "11   Multimode interference No-core fiber SiO2 nano...  \n",
              "14   Multicore fiber fiber grating spatial division...  \n",
              "16   Fiber optics sensors Refractive index Multicor...  \n",
              "..                                                 ...  \n",
              "359  MIMO communication Gain Q-factor Crosstalk Mul...  \n",
              "361  Optical fiber networks Multicore processing Sp...  \n",
              "362  Channel models Couplings Optical fibers Multic...  \n",
              "368  Multicore fiber multimode fiber fiber design a...  \n",
              "369  Multicore fibers Intercore crosstalk Mode coup...  \n",
              "\n",
              "[132 rows x 7 columns]"
            ]
          },
          "execution_count": 117,
          "metadata": {},
          "output_type": "execute_result"
        }
      ],
      "source": [
        "df[df['aukey_modified'].str.contains(f\".*{termlist[0]}.*\", regex=True)]"
      ]
    },
    {
      "cell_type": "code",
      "execution_count": null,
      "id": "903043fa",
      "metadata": {
        "id": "903043fa",
        "outputId": "f2c91c51-9e0f-421a-bba2-3b1bb4cf27b5",
        "colab": {
          "referenced_widgets": [
            "6b094ded755e4e378db2a913098da992"
          ]
        }
      },
      "outputs": [
        {
          "data": {
            "application/vnd.jupyter.widget-view+json": {
              "model_id": "6b094ded755e4e378db2a913098da992",
              "version_major": 2,
              "version_minor": 0
            },
            "text/plain": [
              "  0%|          | 0/15 [00:00<?, ?it/s]"
            ]
          },
          "metadata": {},
          "output_type": "display_data"
        }
      ],
      "source": [
        "# 각 용어를 검색하고 결과를 새 컬럼으로 추가하는 코드 테스트\n",
        "for term in tqdm(termlist):\n",
        "    df[term] = df['aukey_modified'].str.contains(f\".*{termlist[0]}.*\", case=False, regex=True)"
      ]
    },
    {
      "cell_type": "code",
      "execution_count": null,
      "id": "c0493d69",
      "metadata": {
        "collapsed": true,
        "id": "c0493d69",
        "outputId": "52c11fbd-f3fb-4039-903a-fa74acffe31b",
        "colab": {
          "referenced_widgets": [
            "c757f353843a4f4e9dfae0f77d193c2b",
            "94dfeb77820a45e383f9277727aa7921",
            "79ba6bb6a7e6418aabece79e259c1660",
            "6542c6b66e254c9db9c67bcb0ea10392",
            "76885b5ae206440c96d1ef2e0b1de9c8",
            "01905899c4e842c5817222e5331802ba",
            "edc2990605aa4bf8b483925c35cbbc79",
            "928bae2886114faea7e28a392e9fc871",
            "8766d8a642f647b997be098ab33f8678",
            "7e57540e2ac8414eba84cd0afa3621cc",
            "02e221d64f6143a0b967296c29e2bb1a",
            "a937e0249ca3428bad6a021e496688ac",
            "13a2bc3180ac426ebe50aad42ec90974",
            "fa3355c64858437a8d701eebcc2d6552",
            "f54823361e324d4398da3329df7e4ab6"
          ]
        }
      },
      "outputs": [
        {
          "data": {
            "application/vnd.jupyter.widget-view+json": {
              "model_id": "c757f353843a4f4e9dfae0f77d193c2b",
              "version_major": 2,
              "version_minor": 0
            },
            "text/plain": [
              "processing tech {tech}:   0%|          | 0/12 [00:00<?, ?it/s]"
            ]
          },
          "metadata": {},
          "output_type": "display_data"
        },
        {
          "data": {
            "application/vnd.jupyter.widget-view+json": {
              "model_id": "94dfeb77820a45e383f9277727aa7921",
              "version_major": 2,
              "version_minor": 0
            },
            "text/plain": [
              "search terms in aukey:   0%|          | 0/22 [00:00<?, ?it/s]"
            ]
          },
          "metadata": {},
          "output_type": "display_data"
        },
        {
          "data": {
            "application/vnd.jupyter.widget-view+json": {
              "model_id": "79ba6bb6a7e6418aabece79e259c1660",
              "version_major": 2,
              "version_minor": 0
            },
            "text/plain": [
              "search terms in abstract:   0%|          | 0/22 [00:00<?, ?it/s]"
            ]
          },
          "metadata": {},
          "output_type": "display_data"
        },
        {
          "name": "stdout",
          "output_type": "stream",
          "text": [
            "1-1. 금속 3D 프린팅(A-set)\n"
          ]
        },
        {
          "data": {
            "application/vnd.jupyter.widget-view+json": {
              "model_id": "6542c6b66e254c9db9c67bcb0ea10392",
              "version_major": 2,
              "version_minor": 0
            },
            "text/plain": [
              "search terms in aukey:   0%|          | 0/22 [00:00<?, ?it/s]"
            ]
          },
          "metadata": {},
          "output_type": "display_data"
        },
        {
          "data": {
            "application/vnd.jupyter.widget-view+json": {
              "model_id": "76885b5ae206440c96d1ef2e0b1de9c8",
              "version_major": 2,
              "version_minor": 0
            },
            "text/plain": [
              "search terms in abstract:   0%|          | 0/22 [00:00<?, ?it/s]"
            ]
          },
          "metadata": {},
          "output_type": "display_data"
        },
        {
          "name": "stdout",
          "output_type": "stream",
          "text": [
            "1-1. 금속 3D 프린팅(A-set)2\n"
          ]
        },
        {
          "data": {
            "application/vnd.jupyter.widget-view+json": {
              "model_id": "01905899c4e842c5817222e5331802ba",
              "version_major": 2,
              "version_minor": 0
            },
            "text/plain": [
              "search terms in aukey:   0%|          | 0/7 [00:00<?, ?it/s]"
            ]
          },
          "metadata": {},
          "output_type": "display_data"
        },
        {
          "data": {
            "application/vnd.jupyter.widget-view+json": {
              "model_id": "edc2990605aa4bf8b483925c35cbbc79",
              "version_major": 2,
              "version_minor": 0
            },
            "text/plain": [
              "search terms in abstract:   0%|          | 0/7 [00:00<?, ?it/s]"
            ]
          },
          "metadata": {},
          "output_type": "display_data"
        },
        {
          "name": "stdout",
          "output_type": "stream",
          "text": [
            "1-2. 금속 3D 프린팅(B-set)\n"
          ]
        },
        {
          "data": {
            "application/vnd.jupyter.widget-view+json": {
              "model_id": "928bae2886114faea7e28a392e9fc871",
              "version_major": 2,
              "version_minor": 0
            },
            "text/plain": [
              "search terms in aukey:   0%|          | 0/3 [00:00<?, ?it/s]"
            ]
          },
          "metadata": {},
          "output_type": "display_data"
        },
        {
          "data": {
            "application/vnd.jupyter.widget-view+json": {
              "model_id": "8766d8a642f647b997be098ab33f8678",
              "version_major": 2,
              "version_minor": 0
            },
            "text/plain": [
              "search terms in abstract:   0%|          | 0/3 [00:00<?, ?it/s]"
            ]
          },
          "metadata": {},
          "output_type": "display_data"
        },
        {
          "name": "stdout",
          "output_type": "stream",
          "text": [
            "10. 상변화 소재 활용 열에너지 저장\n"
          ]
        },
        {
          "data": {
            "application/vnd.jupyter.widget-view+json": {
              "model_id": "7e57540e2ac8414eba84cd0afa3621cc",
              "version_major": 2,
              "version_minor": 0
            },
            "text/plain": [
              "search terms in aukey:   0%|          | 0/12 [00:00<?, ?it/s]"
            ]
          },
          "metadata": {},
          "output_type": "display_data"
        },
        {
          "data": {
            "application/vnd.jupyter.widget-view+json": {
              "model_id": "02e221d64f6143a0b967296c29e2bb1a",
              "version_major": 2,
              "version_minor": 0
            },
            "text/plain": [
              "search terms in abstract:   0%|          | 0/12 [00:00<?, ?it/s]"
            ]
          },
          "metadata": {},
          "output_type": "display_data"
        },
        {
          "name": "stdout",
          "output_type": "stream",
          "text": [
            "2. 신축성 전자소자\n"
          ]
        },
        {
          "data": {
            "application/vnd.jupyter.widget-view+json": {
              "model_id": "a937e0249ca3428bad6a021e496688ac",
              "version_major": 2,
              "version_minor": 0
            },
            "text/plain": [
              "search terms in aukey:   0%|          | 0/10 [00:00<?, ?it/s]"
            ]
          },
          "metadata": {},
          "output_type": "display_data"
        },
        {
          "data": {
            "application/vnd.jupyter.widget-view+json": {
              "model_id": "13a2bc3180ac426ebe50aad42ec90974",
              "version_major": 2,
              "version_minor": 0
            },
            "text/plain": [
              "search terms in abstract:   0%|          | 0/10 [00:00<?, ?it/s]"
            ]
          },
          "metadata": {},
          "output_type": "display_data"
        },
        {
          "name": "stdout",
          "output_type": "stream",
          "text": [
            "3. 휴먼 마이크로바이옴\n"
          ]
        },
        {
          "data": {
            "application/vnd.jupyter.widget-view+json": {
              "model_id": "fa3355c64858437a8d701eebcc2d6552",
              "version_major": 2,
              "version_minor": 0
            },
            "text/plain": [
              "search terms in aukey:   0%|          | 0/6 [00:00<?, ?it/s]"
            ]
          },
          "metadata": {},
          "output_type": "display_data"
        },
        {
          "data": {
            "application/vnd.jupyter.widget-view+json": {
              "model_id": "f54823361e324d4398da3329df7e4ab6",
              "version_major": 2,
              "version_minor": 0
            },
            "text/plain": [
              "search terms in abstract:   0%|          | 0/6 [00:00<?, ?it/s]"
            ]
          },
          "metadata": {},
          "output_type": "display_data"
        },
        {
          "ename": "KeyboardInterrupt",
          "evalue": "",
          "output_type": "error",
          "traceback": [
            "\u001b[1;31m---------------------------------------------------------------------------\u001b[0m",
            "\u001b[1;31mKeyboardInterrupt\u001b[0m                         Traceback (most recent call last)",
            "Cell \u001b[1;32mIn[132], line 8\u001b[0m\n\u001b[0;32m      6\u001b[0m     df[term] \u001b[38;5;241m=\u001b[39m df[\u001b[38;5;124m'\u001b[39m\u001b[38;5;124maukey_modified\u001b[39m\u001b[38;5;124m'\u001b[39m]\u001b[38;5;241m.\u001b[39mstr\u001b[38;5;241m.\u001b[39mcontains(\u001b[38;5;124mf\u001b[39m\u001b[38;5;124m\"\u001b[39m\u001b[38;5;124m.*\u001b[39m\u001b[38;5;132;01m{\u001b[39;00mterm\u001b[38;5;132;01m}\u001b[39;00m\u001b[38;5;124m.*\u001b[39m\u001b[38;5;124m\"\u001b[39m, case\u001b[38;5;241m=\u001b[39m\u001b[38;5;28;01mFalse\u001b[39;00m, regex\u001b[38;5;241m=\u001b[39m\u001b[38;5;28;01mTrue\u001b[39;00m)\n\u001b[0;32m      7\u001b[0m \u001b[38;5;28;01mfor\u001b[39;00m term \u001b[38;5;129;01min\u001b[39;00m tqdm(termlist, desc \u001b[38;5;241m=\u001b[39m \u001b[38;5;124m'\u001b[39m\u001b[38;5;124msearch terms in abstract\u001b[39m\u001b[38;5;124m'\u001b[39m):\n\u001b[1;32m----> 8\u001b[0m     df_abs[term] \u001b[38;5;241m=\u001b[39m \u001b[43mdf_abs\u001b[49m\u001b[43m[\u001b[49m\u001b[38;5;124;43m'\u001b[39;49m\u001b[38;5;124;43mabstract\u001b[39;49m\u001b[38;5;124;43m'\u001b[39;49m\u001b[43m]\u001b[49m\u001b[38;5;241;43m.\u001b[39;49m\u001b[43mstr\u001b[49m\u001b[38;5;241;43m.\u001b[39;49m\u001b[43mcontains\u001b[49m\u001b[43m(\u001b[49m\u001b[38;5;124;43mf\u001b[39;49m\u001b[38;5;124;43m\"\u001b[39;49m\u001b[38;5;124;43m.*\u001b[39;49m\u001b[38;5;132;43;01m{\u001b[39;49;00m\u001b[43mterm\u001b[49m\u001b[38;5;132;43;01m}\u001b[39;49;00m\u001b[38;5;124;43m.*\u001b[39;49m\u001b[38;5;124;43m\"\u001b[39;49m\u001b[43m,\u001b[49m\u001b[43m \u001b[49m\u001b[43mcase\u001b[49m\u001b[38;5;241;43m=\u001b[39;49m\u001b[38;5;28;43;01mFalse\u001b[39;49;00m\u001b[43m,\u001b[49m\u001b[43m \u001b[49m\u001b[43mregex\u001b[49m\u001b[38;5;241;43m=\u001b[39;49m\u001b[38;5;28;43;01mTrue\u001b[39;49;00m\u001b[43m)\u001b[49m\n\u001b[0;32m      9\u001b[0m df\u001b[38;5;241m.\u001b[39mto_csv(\u001b[38;5;124mf\u001b[39m\u001b[38;5;124m'\u001b[39m\u001b[38;5;132;01m{\u001b[39;00mtech\u001b[38;5;132;01m}\u001b[39;00m\u001b[38;5;124m_search_results_from_aukey_updated.csv\u001b[39m\u001b[38;5;124m'\u001b[39m)\n\u001b[0;32m     10\u001b[0m df_abs\u001b[38;5;241m.\u001b[39mto_csv(\u001b[38;5;124mf\u001b[39m\u001b[38;5;124m'\u001b[39m\u001b[38;5;132;01m{\u001b[39;00mtech\u001b[38;5;132;01m}\u001b[39;00m\u001b[38;5;124m_search_results_from_abstract_updated.csv\u001b[39m\u001b[38;5;124m'\u001b[39m)\n",
            "File \u001b[1;32mC:\\Anaconda3\\envs\\py39\\lib\\site-packages\\pandas\\core\\strings\\accessor.py:125\u001b[0m, in \u001b[0;36mforbid_nonstring_types.<locals>._forbid_nonstring_types.<locals>.wrapper\u001b[1;34m(self, *args, **kwargs)\u001b[0m\n\u001b[0;32m    120\u001b[0m     msg \u001b[38;5;241m=\u001b[39m (\n\u001b[0;32m    121\u001b[0m         \u001b[38;5;124mf\u001b[39m\u001b[38;5;124m\"\u001b[39m\u001b[38;5;124mCannot use .str.\u001b[39m\u001b[38;5;132;01m{\u001b[39;00mfunc_name\u001b[38;5;132;01m}\u001b[39;00m\u001b[38;5;124m with values of \u001b[39m\u001b[38;5;124m\"\u001b[39m\n\u001b[0;32m    122\u001b[0m         \u001b[38;5;124mf\u001b[39m\u001b[38;5;124m\"\u001b[39m\u001b[38;5;124minferred dtype \u001b[39m\u001b[38;5;124m'\u001b[39m\u001b[38;5;132;01m{\u001b[39;00m\u001b[38;5;28mself\u001b[39m\u001b[38;5;241m.\u001b[39m_inferred_dtype\u001b[38;5;132;01m}\u001b[39;00m\u001b[38;5;124m'\u001b[39m\u001b[38;5;124m.\u001b[39m\u001b[38;5;124m\"\u001b[39m\n\u001b[0;32m    123\u001b[0m     )\n\u001b[0;32m    124\u001b[0m     \u001b[38;5;28;01mraise\u001b[39;00m \u001b[38;5;167;01mTypeError\u001b[39;00m(msg)\n\u001b[1;32m--> 125\u001b[0m \u001b[38;5;28;01mreturn\u001b[39;00m func(\u001b[38;5;28mself\u001b[39m, \u001b[38;5;241m*\u001b[39margs, \u001b[38;5;241m*\u001b[39m\u001b[38;5;241m*\u001b[39mkwargs)\n",
            "File \u001b[1;32mC:\\Anaconda3\\envs\\py39\\lib\\site-packages\\pandas\\core\\strings\\accessor.py:1222\u001b[0m, in \u001b[0;36mStringMethods.contains\u001b[1;34m(self, pat, case, flags, na, regex)\u001b[0m\n\u001b[0;32m   1214\u001b[0m \u001b[38;5;28;01mif\u001b[39;00m regex \u001b[38;5;129;01mand\u001b[39;00m re\u001b[38;5;241m.\u001b[39mcompile(pat)\u001b[38;5;241m.\u001b[39mgroups:\n\u001b[0;32m   1215\u001b[0m     warnings\u001b[38;5;241m.\u001b[39mwarn(\n\u001b[0;32m   1216\u001b[0m         \u001b[38;5;124m\"\u001b[39m\u001b[38;5;124mThis pattern is interpreted as a regular expression, and has \u001b[39m\u001b[38;5;124m\"\u001b[39m\n\u001b[0;32m   1217\u001b[0m         \u001b[38;5;124m\"\u001b[39m\u001b[38;5;124mmatch groups. To actually get the groups, use str.extract.\u001b[39m\u001b[38;5;124m\"\u001b[39m,\n\u001b[0;32m   1218\u001b[0m         \u001b[38;5;167;01mUserWarning\u001b[39;00m,\n\u001b[0;32m   1219\u001b[0m         stacklevel\u001b[38;5;241m=\u001b[39mfind_stack_level(),\n\u001b[0;32m   1220\u001b[0m     )\n\u001b[1;32m-> 1222\u001b[0m result \u001b[38;5;241m=\u001b[39m \u001b[38;5;28;43mself\u001b[39;49m\u001b[38;5;241;43m.\u001b[39;49m\u001b[43m_data\u001b[49m\u001b[38;5;241;43m.\u001b[39;49m\u001b[43marray\u001b[49m\u001b[38;5;241;43m.\u001b[39;49m\u001b[43m_str_contains\u001b[49m\u001b[43m(\u001b[49m\u001b[43mpat\u001b[49m\u001b[43m,\u001b[49m\u001b[43m \u001b[49m\u001b[43mcase\u001b[49m\u001b[43m,\u001b[49m\u001b[43m \u001b[49m\u001b[43mflags\u001b[49m\u001b[43m,\u001b[49m\u001b[43m \u001b[49m\u001b[43mna\u001b[49m\u001b[43m,\u001b[49m\u001b[43m \u001b[49m\u001b[43mregex\u001b[49m\u001b[43m)\u001b[49m\n\u001b[0;32m   1223\u001b[0m \u001b[38;5;28;01mreturn\u001b[39;00m \u001b[38;5;28mself\u001b[39m\u001b[38;5;241m.\u001b[39m_wrap_result(result, fill_value\u001b[38;5;241m=\u001b[39mna, returns_string\u001b[38;5;241m=\u001b[39m\u001b[38;5;28;01mFalse\u001b[39;00m)\n",
            "File \u001b[1;32mC:\\Anaconda3\\envs\\py39\\lib\\site-packages\\pandas\\core\\strings\\object_array.py:131\u001b[0m, in \u001b[0;36mObjectStringArrayMixin._str_contains\u001b[1;34m(self, pat, case, flags, na, regex)\u001b[0m\n\u001b[0;32m    129\u001b[0m         upper_pat \u001b[38;5;241m=\u001b[39m pat\u001b[38;5;241m.\u001b[39mupper()\n\u001b[0;32m    130\u001b[0m         f \u001b[38;5;241m=\u001b[39m \u001b[38;5;28;01mlambda\u001b[39;00m x: upper_pat \u001b[38;5;129;01min\u001b[39;00m x\u001b[38;5;241m.\u001b[39mupper()\n\u001b[1;32m--> 131\u001b[0m \u001b[38;5;28;01mreturn\u001b[39;00m \u001b[38;5;28;43mself\u001b[39;49m\u001b[38;5;241;43m.\u001b[39;49m\u001b[43m_str_map\u001b[49m\u001b[43m(\u001b[49m\u001b[43mf\u001b[49m\u001b[43m,\u001b[49m\u001b[43m \u001b[49m\u001b[43mna\u001b[49m\u001b[43m,\u001b[49m\u001b[43m \u001b[49m\u001b[43mdtype\u001b[49m\u001b[38;5;241;43m=\u001b[39;49m\u001b[43mnp\u001b[49m\u001b[38;5;241;43m.\u001b[39;49m\u001b[43mdtype\u001b[49m\u001b[43m(\u001b[49m\u001b[38;5;124;43m\"\u001b[39;49m\u001b[38;5;124;43mbool\u001b[39;49m\u001b[38;5;124;43m\"\u001b[39;49m\u001b[43m)\u001b[49m\u001b[43m)\u001b[49m\n",
            "File \u001b[1;32mC:\\Anaconda3\\envs\\py39\\lib\\site-packages\\pandas\\core\\strings\\object_array.py:71\u001b[0m, in \u001b[0;36mObjectStringArrayMixin._str_map\u001b[1;34m(self, f, na_value, dtype, convert)\u001b[0m\n\u001b[0;32m     69\u001b[0m map_convert \u001b[38;5;241m=\u001b[39m convert \u001b[38;5;129;01mand\u001b[39;00m \u001b[38;5;129;01mnot\u001b[39;00m np\u001b[38;5;241m.\u001b[39mall(mask)\n\u001b[0;32m     70\u001b[0m \u001b[38;5;28;01mtry\u001b[39;00m:\n\u001b[1;32m---> 71\u001b[0m     result \u001b[38;5;241m=\u001b[39m \u001b[43mlib\u001b[49m\u001b[38;5;241;43m.\u001b[39;49m\u001b[43mmap_infer_mask\u001b[49m\u001b[43m(\u001b[49m\u001b[43marr\u001b[49m\u001b[43m,\u001b[49m\u001b[43m \u001b[49m\u001b[43mf\u001b[49m\u001b[43m,\u001b[49m\u001b[43m \u001b[49m\u001b[43mmask\u001b[49m\u001b[38;5;241;43m.\u001b[39;49m\u001b[43mview\u001b[49m\u001b[43m(\u001b[49m\u001b[43mnp\u001b[49m\u001b[38;5;241;43m.\u001b[39;49m\u001b[43muint8\u001b[49m\u001b[43m)\u001b[49m\u001b[43m,\u001b[49m\u001b[43m \u001b[49m\u001b[43mmap_convert\u001b[49m\u001b[43m)\u001b[49m\n\u001b[0;32m     72\u001b[0m \u001b[38;5;28;01mexcept\u001b[39;00m (\u001b[38;5;167;01mTypeError\u001b[39;00m, \u001b[38;5;167;01mAttributeError\u001b[39;00m) \u001b[38;5;28;01mas\u001b[39;00m err:\n\u001b[0;32m     73\u001b[0m     \u001b[38;5;66;03m# Reraise the exception if callable `f` got wrong number of args.\u001b[39;00m\n\u001b[0;32m     74\u001b[0m     \u001b[38;5;66;03m# The user may want to be warned by this, instead of getting NaN\u001b[39;00m\n\u001b[0;32m     75\u001b[0m     p_err \u001b[38;5;241m=\u001b[39m (\n\u001b[0;32m     76\u001b[0m         \u001b[38;5;124mr\u001b[39m\u001b[38;5;124m\"\u001b[39m\u001b[38;5;124m((takes)|(missing)) (?(2)from \u001b[39m\u001b[38;5;124m\\\u001b[39m\u001b[38;5;124md+ to )?\u001b[39m\u001b[38;5;124m\\\u001b[39m\u001b[38;5;124md+ \u001b[39m\u001b[38;5;124m\"\u001b[39m\n\u001b[0;32m     77\u001b[0m         \u001b[38;5;124mr\u001b[39m\u001b[38;5;124m\"\u001b[39m\u001b[38;5;124m(?(3)required )positional arguments?\u001b[39m\u001b[38;5;124m\"\u001b[39m\n\u001b[0;32m     78\u001b[0m     )\n",
            "File \u001b[1;32mC:\\Anaconda3\\envs\\py39\\lib\\site-packages\\pandas\\_libs\\lib.pyx:2822\u001b[0m, in \u001b[0;36mpandas._libs.lib.map_infer_mask\u001b[1;34m()\u001b[0m\n",
            "File \u001b[1;32mC:\\Anaconda3\\envs\\py39\\lib\\site-packages\\pandas\\core\\strings\\object_array.py:124\u001b[0m, in \u001b[0;36mObjectStringArrayMixin._str_contains.<locals>.<lambda>\u001b[1;34m(x)\u001b[0m\n\u001b[0;32m    120\u001b[0m         flags \u001b[38;5;241m|\u001b[39m\u001b[38;5;241m=\u001b[39m re\u001b[38;5;241m.\u001b[39mIGNORECASE\n\u001b[0;32m    122\u001b[0m     pat \u001b[38;5;241m=\u001b[39m re\u001b[38;5;241m.\u001b[39mcompile(pat, flags\u001b[38;5;241m=\u001b[39mflags)\n\u001b[1;32m--> 124\u001b[0m     f \u001b[38;5;241m=\u001b[39m \u001b[38;5;28;01mlambda\u001b[39;00m x: pat\u001b[38;5;241m.\u001b[39msearch(x) \u001b[38;5;129;01mis\u001b[39;00m \u001b[38;5;129;01mnot\u001b[39;00m \u001b[38;5;28;01mNone\u001b[39;00m\n\u001b[0;32m    125\u001b[0m \u001b[38;5;28;01melse\u001b[39;00m:\n\u001b[0;32m    126\u001b[0m     \u001b[38;5;28;01mif\u001b[39;00m case:\n",
            "\u001b[1;31mKeyboardInterrupt\u001b[0m: "
          ]
        }
      ],
      "source": [
        "# 각 용어(term)이 df(저자키워드 검색결과), df_abs(초록 검색결과)에서 어느 행의 검색에 기여했는지를 찾고\n",
        "# , 이를 새 컬럼(True/False)으로 추가하고, csv로 저장\n",
        "for tech in tqdm(techs, desc=f'processing tech {tech}'):\n",
        "    termlist =  list(technology_search_results[tech]['npubs_contain_searchterms'].index)\n",
        "    df = technology_search_results[tech]['concatenated_results']\n",
        "    df_abs = technology_search_results[tech]['concatenated_results_abs']\n",
        "    for term in tqdm(termlist, desc = 'search terms in aukey'):\n",
        "        df[term] = df['aukey_modified'].str.contains(f\".*{term}.*\", case=False, regex=True)\n",
        "    for term in tqdm(termlist, desc = 'search terms in abstract'):\n",
        "        df_abs[term] = df_abs['abstract'].str.contains(f\".*{term}.*\", case=False, regex=True)\n",
        "    df.to_csv(f'{tech}_search_results_from_aukey_updated.csv')\n",
        "    df_abs.to_csv(f'{tech}_search_results_from_abstract_updated.csv')\n",
        "    print(tech)"
      ]
    },
    {
      "cell_type": "code",
      "execution_count": null,
      "id": "db071061",
      "metadata": {
        "id": "db071061",
        "outputId": "a2081128-9c15-460d-a279-8b58f56b43a9"
      },
      "outputs": [
        {
          "name": "stdout",
          "output_type": "stream",
          "text": [
            "1-1. 금속 3D 프린팅(A-set)2\n",
            "1-2. 금속 3D 프린팅(B-set)\n",
            "10. 상변화 소재 활용 열에너지 저장\n",
            "2. 신축성 전자소자\n",
            "3. 휴먼 마이크로바이옴\n",
            "4. 암 진단_예측 바이오마커\n",
            "5. 유전자 편집\n",
            "6.무선 전력 전송\n",
            "7. 초대용량 데이터 대응 광통신 기술\n",
            "8. 면역세포치료\n",
            "9. 나노유체 이용 에너지 효율화\n"
          ]
        }
      ],
      "source": [
        "# df_abs(초록 검색결과) 중, df(저자키워드 검색결과)에 존재하는 행을 제외한 나머지행만 따로 추출하여 csv 저장\n",
        "for i in range(1,12):\n",
        "    print(techs[i])\n",
        "    df = technology_search_results[techs[i]]['concatenated_results']\n",
        "    df_abs = technology_search_results[techs[i]]['concatenated_results_abs']\n",
        "    df_abs_div = df_abs.loc[~(df_abs['uid'].isin(df['uid']))]\n",
        "    df_abs_div.to_csv(f'{techs[i]}_only-abs_not-aukey.csv')"
      ]
    },
    {
      "cell_type": "code",
      "execution_count": null,
      "id": "06102def",
      "metadata": {
        "id": "06102def"
      },
      "outputs": [],
      "source": []
    }
  ],
  "metadata": {
    "kernelspec": {
      "display_name": "Python 3 (ipykernel)",
      "language": "python",
      "name": "python3"
    },
    "language_info": {
      "codemirror_mode": {
        "name": "ipython",
        "version": 3
      },
      "file_extension": ".py",
      "mimetype": "text/x-python",
      "name": "python",
      "nbconvert_exporter": "python",
      "pygments_lexer": "ipython3",
      "version": "3.9.12"
    },
    "colab": {
      "provenance": []
    }
  },
  "nbformat": 4,
  "nbformat_minor": 5
}