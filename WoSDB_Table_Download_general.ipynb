{
  "cells": [
    {
      "cell_type": "markdown",
      "metadata": {
        "id": "view-in-github",
        "colab_type": "text"
      },
      "source": [
        "<a href=\"https://colab.research.google.com/github/ssonone/FutureTechTrajectories/blob/main/WoSDB_Table_Download_general.ipynb\" target=\"_parent\"><img src=\"https://colab.research.google.com/assets/colab-badge.svg\" alt=\"Open In Colab\"/></a>"
      ]
    },
    {
      "cell_type": "code",
      "execution_count": null,
      "id": "be123817",
      "metadata": {
        "id": "be123817"
      },
      "outputs": [],
      "source": [
        "# Import Modules\n",
        "import os\n",
        "import pandas as pd\n",
        "from sqlalchemy import create_engine\n",
        "from tqdm.auto import tqdm\n",
        "import pymysql\n",
        "from dotenv import load_dotenv\n",
        "\n",
        "# pymysql을 MySQLdb로 사용하기 위한 설정\n",
        "pymysql.install_as_MySQLdb()\n",
        "\n",
        "\n",
        "# 환경변수 파일 로드\n",
        "load_dotenv()"
      ]
    },
    {
      "cell_type": "code",
      "execution_count": null,
      "id": "b74f4462",
      "metadata": {
        "id": "b74f4462"
      },
      "outputs": [],
      "source": [
        "def get_database_engine():\n",
        "    # 환경변수에서 데이터베이스 연결 정보 가져오기\n",
        "    user = os.getenv('DB_USER')\n",
        "    pw = os.getenv('DB_PASSWORD')\n",
        "    ip = os.getenv('DB_IP')\n",
        "    port = os.getenv('DB_PORT')\n",
        "    db = os.getenv('DB_NAME')\n",
        "    return create_engine(f\"mysql://{user}:{pw}@{ip}:{port}/{db}\")"
      ]
    },
    {
      "cell_type": "code",
      "execution_count": null,
      "id": "955e4bda",
      "metadata": {
        "id": "955e4bda"
      },
      "outputs": [],
      "source": [
        "def fetch_data(engine, year, table_name):\n",
        "    query = f\"\"\"\n",
        "    SELECT B.* FROM `{table_name}` B\n",
        "    JOIN `pub_info` A ON A.uid = B.uid\n",
        "    WHERE A.pubyear = %s;\n",
        "    \"\"\"\n",
        "    # pub_info ; pubyear를 포함하는 publication infomation 테이블\n",
        "    return pd.read_sql_query(query, engine, params=[(year,)])"
      ]
    },
    {
      "cell_type": "code",
      "execution_count": null,
      "id": "5a0c21c8",
      "metadata": {
        "id": "5a0c21c8"
      },
      "outputs": [],
      "source": [
        "def main():\n",
        "    engine = get_database_engine()\n",
        "    dataframes = []\n",
        "\n",
        "    # 데이터베이스 이름 환경변수에서 불러오기\n",
        "    db_name = os.getenv('DB_NAME')\n",
        "\n",
        "    # 사용자로부터 처리할 테이블 이름 입력 받기\n",
        "    table_name = input(\"Enter the table name to process (e.g., title, abstract, keyword): \")\n",
        "\n",
        "    for year in tqdm(range(2006, 2024), desc=f\"Processing {table_name}\"):\n",
        "        df = fetch_data(engine, year, table_name)\n",
        "        dataframes.append(df)\n",
        "\n",
        "    combined_df = pd.concat(dataframes, ignore_index=True)\n",
        "    combined_df.to_pickle(f'combined_df_{db_name}_{table_name}.pkl')\n",
        "    engine.dispose()"
      ]
    },
    {
      "cell_type": "code",
      "execution_count": null,
      "id": "6aaff16a",
      "metadata": {
        "id": "6aaff16a"
      },
      "outputs": [],
      "source": [
        "\n",
        "if __name__ == \"__main__\":\n",
        "    main()\n"
      ]
    }
  ],
  "metadata": {
    "kernelspec": {
      "display_name": "Python 3 (ipykernel)",
      "language": "python",
      "name": "python3"
    },
    "language_info": {
      "codemirror_mode": {
        "name": "ipython",
        "version": 3
      },
      "file_extension": ".py",
      "mimetype": "text/x-python",
      "name": "python",
      "nbconvert_exporter": "python",
      "pygments_lexer": "ipython3",
      "version": "3.9.19"
    },
    "colab": {
      "provenance": [],
      "include_colab_link": true
    }
  },
  "nbformat": 4,
  "nbformat_minor": 5
}