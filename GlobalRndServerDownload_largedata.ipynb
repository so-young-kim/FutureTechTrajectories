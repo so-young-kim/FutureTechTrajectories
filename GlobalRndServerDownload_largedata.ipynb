{
  "cells": [
    {
      "cell_type": "markdown",
      "metadata": {
        "id": "view-in-github",
        "colab_type": "text"
      },
      "source": [
        "<a href=\"https://colab.research.google.com/github/ssonone/FutureTechTrajectories/blob/main/GlobalRndServerDownload_largedata.ipynb\" target=\"_parent\"><img src=\"https://colab.research.google.com/assets/colab-badge.svg\" alt=\"Open In Colab\"/></a>"
      ]
    },
    {
      "cell_type": "code",
      "execution_count": null,
      "id": "be123817",
      "metadata": {
        "id": "be123817",
        "outputId": "026f99f0-f2ba-4cb4-dbce-528494698cf0"
      },
      "outputs": [
        {
          "data": {
            "text/plain": [
              "True"
            ]
          },
          "execution_count": 1,
          "metadata": {},
          "output_type": "execute_result"
        }
      ],
      "source": [
        "# Import Modules\n",
        "import os\n",
        "import pandas as pd\n",
        "from sqlalchemy import create_engine\n",
        "from tqdm.auto import tqdm\n",
        "import pymysql\n",
        "from dotenv import load_dotenv\n",
        "\n",
        "# pymysql을 MySQLdb로 사용하기 위한 설정\n",
        "pymysql.install_as_MySQLdb()\n",
        "\n",
        "\n",
        "# 환경변수 파일 로드\n",
        "load_dotenv()"
      ]
    },
    {
      "cell_type": "code",
      "execution_count": null,
      "id": "b74f4462",
      "metadata": {
        "id": "b74f4462"
      },
      "outputs": [],
      "source": [
        "def get_database_engine():\n",
        "    # 환경변수에서 데이터베이스 연결 정보 가져오기\n",
        "    user = os.getenv('DB_USER')\n",
        "    pw = os.getenv('DB_PASSWORD')\n",
        "    ip = os.getenv('DB_IP')\n",
        "    port = os.getenv('DB_PORT')\n",
        "    db = os.getenv('DB_NAME')\n",
        "    return create_engine(f\"mysql://{user}:{pw}@{ip}:{port}/{db}\")"
      ]
    },
    {
      "cell_type": "code",
      "execution_count": null,
      "id": "53d35908",
      "metadata": {
        "id": "53d35908"
      },
      "outputs": [],
      "source": [
        "def fetch_data(engine, year, table_name):\n",
        "    query = f\"\"\"\n",
        "    SELECT B.* FROM `web_of_science_2413_raw`.`{table_name}` B\n",
        "    JOIN `web_of_science_2413_raw`.`pub_info` A ON A.uid = B.uid\n",
        "    WHERE A.pubyear = %s;\n",
        "    \"\"\"\n",
        "    return pd.read_sql_query(query, engine, params=[(year,)])"
      ]
    },
    {
      "cell_type": "code",
      "execution_count": null,
      "id": "4ad10c0e",
      "metadata": {
        "colab": {
          "referenced_widgets": [
            "e56cb29f4e144777bd5392b8c1f910cc"
          ]
        },
        "id": "4ad10c0e",
        "outputId": "a87c9b58-fe69-48f2-8fe2-83aa80e5e6d4"
      },
      "outputs": [
        {
          "name": "stdout",
          "output_type": "stream",
          "text": [
            "Enter the table name to process (e.g., title, abstract, keyword): author_total\n"
          ]
        },
        {
          "data": {
            "application/vnd.jupyter.widget-view+json": {
              "model_id": "e56cb29f4e144777bd5392b8c1f910cc",
              "version_major": 2,
              "version_minor": 0
            },
            "text/plain": [
              "processing author_total:   0%|          | 0/18 [00:00<?, ?it/s]"
            ]
          },
          "metadata": {},
          "output_type": "display_data"
        },
        {
          "name": "stdout",
          "output_type": "stream",
          "text": [
            "Skipping 2006, file already exists.\n",
            "Skipping 2007, file already exists.\n",
            "Skipping 2008, file already exists.\n",
            "Skipping 2009, file already exists.\n",
            "Skipping 2010, file already exists.\n",
            "Skipping 2011, file already exists.\n",
            "Skipping 2012, file already exists.\n",
            "Skipping 2013, file already exists.\n",
            "Skipping 2014, file already exists.\n",
            "Skipping 2015, file already exists.\n",
            "Skipping 2016, file already exists.\n",
            "Skipping 2017, file already exists.\n",
            "Skipping 2018, file already exists.\n",
            "Skipping 2019, file already exists.\n",
            "Data for 2020 saved successfully.\n",
            "Data for 2021 saved successfully.\n",
            "Data for 2022 saved successfully.\n",
            "Data for 2023 saved successfully.\n"
          ]
        },
        {
          "name": "stderr",
          "output_type": "stream",
          "text": [
            "C:\\Users\\skim\\AppData\\Local\\Temp\\ipykernel_9000\\3921889569.py:40: DtypeWarning: Columns (6,8,10) have mixed types. Specify dtype option on import or set low_memory=False.\n",
            "  df = pd.read_csv(file_path)\n",
            "C:\\Users\\skim\\AppData\\Local\\Temp\\ipykernel_9000\\3921889569.py:40: DtypeWarning: Columns (7) have mixed types. Specify dtype option on import or set low_memory=False.\n",
            "  df = pd.read_csv(file_path)\n",
            "C:\\Users\\skim\\AppData\\Local\\Temp\\ipykernel_9000\\3921889569.py:40: DtypeWarning: Columns (6,7,8,10,16) have mixed types. Specify dtype option on import or set low_memory=False.\n",
            "  df = pd.read_csv(file_path)\n",
            "C:\\Users\\skim\\AppData\\Local\\Temp\\ipykernel_9000\\3921889569.py:40: DtypeWarning: Columns (6,8,10) have mixed types. Specify dtype option on import or set low_memory=False.\n",
            "  df = pd.read_csv(file_path)\n",
            "C:\\Users\\skim\\AppData\\Local\\Temp\\ipykernel_9000\\3921889569.py:40: DtypeWarning: Columns (6,7,8,9,10) have mixed types. Specify dtype option on import or set low_memory=False.\n",
            "  df = pd.read_csv(file_path)\n",
            "C:\\Users\\skim\\AppData\\Local\\Temp\\ipykernel_9000\\3921889569.py:40: DtypeWarning: Columns (6,7,8,10) have mixed types. Specify dtype option on import or set low_memory=False.\n",
            "  df = pd.read_csv(file_path)\n",
            "C:\\Users\\skim\\AppData\\Local\\Temp\\ipykernel_9000\\3921889569.py:40: DtypeWarning: Columns (6,7,8,9,10,16) have mixed types. Specify dtype option on import or set low_memory=False.\n",
            "  df = pd.read_csv(file_path)\n",
            "C:\\Users\\skim\\AppData\\Local\\Temp\\ipykernel_9000\\3921889569.py:40: DtypeWarning: Columns (6,7,8,9,10) have mixed types. Specify dtype option on import or set low_memory=False.\n",
            "  df = pd.read_csv(file_path)\n",
            "C:\\Users\\skim\\AppData\\Local\\Temp\\ipykernel_9000\\3921889569.py:40: DtypeWarning: Columns (6,7,8,9,10) have mixed types. Specify dtype option on import or set low_memory=False.\n",
            "  df = pd.read_csv(file_path)\n",
            "C:\\Users\\skim\\AppData\\Local\\Temp\\ipykernel_9000\\3921889569.py:40: DtypeWarning: Columns (6,7,8,9,10) have mixed types. Specify dtype option on import or set low_memory=False.\n",
            "  df = pd.read_csv(file_path)\n",
            "C:\\Users\\skim\\AppData\\Local\\Temp\\ipykernel_9000\\3921889569.py:40: DtypeWarning: Columns (6,7,8,9,10) have mixed types. Specify dtype option on import or set low_memory=False.\n",
            "  df = pd.read_csv(file_path)\n",
            "C:\\Users\\skim\\AppData\\Local\\Temp\\ipykernel_9000\\3921889569.py:40: DtypeWarning: Columns (6,8,9,10) have mixed types. Specify dtype option on import or set low_memory=False.\n",
            "  df = pd.read_csv(file_path)\n",
            "C:\\Users\\skim\\AppData\\Local\\Temp\\ipykernel_9000\\3921889569.py:40: DtypeWarning: Columns (6,8,9,10) have mixed types. Specify dtype option on import or set low_memory=False.\n",
            "  df = pd.read_csv(file_path)\n",
            "C:\\Users\\skim\\AppData\\Local\\Temp\\ipykernel_9000\\3921889569.py:40: DtypeWarning: Columns (6,8,9,10) have mixed types. Specify dtype option on import or set low_memory=False.\n",
            "  df = pd.read_csv(file_path)\n",
            "C:\\Users\\skim\\AppData\\Local\\Temp\\ipykernel_9000\\3921889569.py:40: DtypeWarning: Columns (6,8,9,10) have mixed types. Specify dtype option on import or set low_memory=False.\n",
            "  df = pd.read_csv(file_path)\n",
            "C:\\Users\\skim\\AppData\\Local\\Temp\\ipykernel_9000\\3921889569.py:40: DtypeWarning: Columns (6,8,9,10) have mixed types. Specify dtype option on import or set low_memory=False.\n",
            "  df = pd.read_csv(file_path)\n",
            "C:\\Users\\skim\\AppData\\Local\\Temp\\ipykernel_9000\\3921889569.py:40: DtypeWarning: Columns (6,8,9,10) have mixed types. Specify dtype option on import or set low_memory=False.\n",
            "  df = pd.read_csv(file_path)\n",
            "C:\\Users\\skim\\AppData\\Local\\Temp\\ipykernel_9000\\3921889569.py:40: DtypeWarning: Columns (6,8,9,10) have mixed types. Specify dtype option on import or set low_memory=False.\n",
            "  df = pd.read_csv(file_path)\n"
          ]
        }
      ],
      "source": [
        "## 데이터가 큰 경우\n",
        "def main():\n",
        "    engine = get_database_engine()\n",
        "    dataframes = []\n",
        "\n",
        "    # 데이터베이스 이름 환경변수에서 불러오기\n",
        "    db_name = os.getenv('DB_NAME')\n",
        "\n",
        "    # 사용자로부터 처리할 테이블 이름 입력 받기\n",
        "    table_name = input(\"Enter the table name to process (e.g., title, abstract, keyword): \")\n",
        "\n",
        "    # 시작 연도 설정\n",
        "    start_year = 2006\n",
        "    end_year = 2023\n",
        "\n",
        "    # 진행 상태를 확인하고, 중단된 연도부터 재시작\n",
        "    for year in tqdm(range(start_year, end_year + 1), desc=f\"processing {table_name}\"):\n",
        "        file_path = f'yearly_data/{db_name}_{table_name}_{year}.csv'\n",
        "\n",
        "        # 파일이 이미 존재하면 스킵 (재처리 방지)\n",
        "        if os.path.exists(file_path):\n",
        "            print(f\"Skipping {year}, file already exists.\")\n",
        "            continue\n",
        "\n",
        "        try:\n",
        "            # 데이터 가져오기\n",
        "            df = fetch_data(engine, year, table_name)\n",
        "            # 연도별 파일로 CSV 형태로 저장\n",
        "            df.to_csv(file_path, index=False)\n",
        "            print(f\"Data for {year} saved successfully.\")\n",
        "        except Exception as e:\n",
        "            print(f\"Failed to fetch data for {year}. Error: {e}\")\n",
        "            break  # 오류 발생 시 중단\n",
        "\n",
        "    # 모든 연도 파일 로드 및 합치기\n",
        "    dataframes = []\n",
        "    for year in range(start_year, end_year + 1):\n",
        "        file_path = f'yearly_data/{db_name}_{table_name}_{year}.csv'\n",
        "        if os.path.exists(file_path):\n",
        "            df = pd.read_csv(file_path)\n",
        "            dataframes.append(df)\n",
        "\n",
        "    combined_df = pd.concat(dataframes, ignore_index=True)\n",
        "    combined_df.to_pickle(f'combined_df_{db_name}_{table_name}.pkl')\n",
        "\n",
        "    engine.dispose()\n",
        "\n",
        "if __name__ == \"__main__\":\n",
        "    main()\n"
      ]
    }
  ],
  "metadata": {
    "kernelspec": {
      "display_name": "Python 3 (ipykernel)",
      "language": "python",
      "name": "python3"
    },
    "language_info": {
      "codemirror_mode": {
        "name": "ipython",
        "version": 3
      },
      "file_extension": ".py",
      "mimetype": "text/x-python",
      "name": "python",
      "nbconvert_exporter": "python",
      "pygments_lexer": "ipython3",
      "version": "3.9.19"
    },
    "colab": {
      "provenance": [],
      "include_colab_link": true
    }
  },
  "nbformat": 4,
  "nbformat_minor": 5
}